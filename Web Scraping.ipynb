{
 "cells": [
  {
   "cell_type": "code",
   "execution_count": 1,
   "id": "4d3debab",
   "metadata": {},
   "outputs": [],
   "source": [
    "html = '<!DOCTYPE html>\\\n",
    "<html lang=\"en\">\\\n",
    "<head>\\\n",
    "    <meta charset=\"UTF-8\">\\\n",
    "    <meta http-equiv=\"X-UA-Compatible\" content=\"IE=edge\">\\\n",
    "    <meta name=\"viewport\" content=\"width=device-width, initial-scale=1.0\">\\\n",
    "    <title>Web Scraping Introduction</title>\\\n",
    "</head>\\\n",
    "<body>\\\n",
    "    <h1 class=\"abc\">Hello World!</h1>\\\n",
    "    <h2 class=\"abc\">Let\\'s start learning <span><b><i>Web Scraping</i></b></span></h2>\\\n",
    "    <a id=\"freecodecamp\" href=\"https://www.freecodecamp.org/news/web-scraping-python-tutorial-how-to-scrape-data-from-a-website/\">Web Scraping Tutorial</a>\\\n",
    "    <p class=\"abc\">\\\n",
    "        <a href=\"https://www.freecodecamp.org/\">Free Codecamp</a>\\\n",
    "    </p>\\\n",
    "</body>\\\n",
    "</html>'"
   ]
  },
  {
   "cell_type": "code",
   "execution_count": 2,
   "id": "f6b3b8d6",
   "metadata": {},
   "outputs": [],
   "source": [
    "from bs4 import BeautifulSoup"
   ]
  },
  {
   "cell_type": "code",
   "execution_count": 3,
   "id": "7f6375d0",
   "metadata": {},
   "outputs": [
    {
     "data": {
      "text/plain": [
       "<!DOCTYPE html>\n",
       "<html lang=\"en\"><head> <meta charset=\"utf-8\"/> <meta content=\"IE=edge\" http-equiv=\"X-UA-Compatible\"/> <meta content=\"width=device-width, initial-scale=1.0\" name=\"viewport\"/> <title>Web Scraping Introduction</title></head><body> <h1 class=\"abc\">Hello World!</h1> <h2 class=\"abc\">Let's start learning <span><b><i>Web Scraping</i></b></span></h2> <a href=\"https://www.freecodecamp.org/news/web-scraping-python-tutorial-how-to-scrape-data-from-a-website/\" id=\"freecodecamp\">Web Scraping Tutorial</a> <p class=\"abc\"> <a href=\"https://www.freecodecamp.org/\">Free Codecamp</a> </p></body></html>"
      ]
     },
     "execution_count": 3,
     "metadata": {},
     "output_type": "execute_result"
    }
   ],
   "source": [
    "data = BeautifulSoup(html,'html.parser')\n",
    "data"
   ]
  },
  {
   "cell_type": "code",
   "execution_count": 4,
   "id": "73a3547a",
   "metadata": {},
   "outputs": [
    {
     "data": {
      "text/plain": [
       "bs4.BeautifulSoup"
      ]
     },
     "execution_count": 4,
     "metadata": {},
     "output_type": "execute_result"
    }
   ],
   "source": [
    "type(data)"
   ]
  },
  {
   "cell_type": "code",
   "execution_count": 5,
   "id": "c2e21076",
   "metadata": {},
   "outputs": [
    {
     "name": "stdout",
     "output_type": "stream",
     "text": [
      "<!DOCTYPE html>\n",
      "<html lang=\"en\">\n",
      " <head>\n",
      "  <meta charset=\"utf-8\"/>\n",
      "  <meta content=\"IE=edge\" http-equiv=\"X-UA-Compatible\"/>\n",
      "  <meta content=\"width=device-width, initial-scale=1.0\" name=\"viewport\"/>\n",
      "  <title>\n",
      "   Web Scraping Introduction\n",
      "  </title>\n",
      " </head>\n",
      " <body>\n",
      "  <h1 class=\"abc\">\n",
      "   Hello World!\n",
      "  </h1>\n",
      "  <h2 class=\"abc\">\n",
      "   Let's start learning\n",
      "   <span>\n",
      "    <b>\n",
      "     <i>\n",
      "      Web Scraping\n",
      "     </i>\n",
      "    </b>\n",
      "   </span>\n",
      "  </h2>\n",
      "  <a href=\"https://www.freecodecamp.org/news/web-scraping-python-tutorial-how-to-scrape-data-from-a-website/\" id=\"freecodecamp\">\n",
      "   Web Scraping Tutorial\n",
      "  </a>\n",
      "  <p class=\"abc\">\n",
      "   <a href=\"https://www.freecodecamp.org/\">\n",
      "    Free Codecamp\n",
      "   </a>\n",
      "  </p>\n",
      " </body>\n",
      "</html>\n"
     ]
    }
   ],
   "source": [
    "print(data.prettify())"
   ]
  },
  {
   "cell_type": "code",
   "execution_count": 6,
   "id": "cec398f6",
   "metadata": {},
   "outputs": [
    {
     "data": {
      "text/plain": [
       "<title>Web Scraping Introduction</title>"
      ]
     },
     "execution_count": 6,
     "metadata": {},
     "output_type": "execute_result"
    }
   ],
   "source": [
    "data.title"
   ]
  },
  {
   "cell_type": "code",
   "execution_count": 7,
   "id": "6a971190",
   "metadata": {},
   "outputs": [
    {
     "data": {
      "text/plain": [
       "<head> <meta charset=\"utf-8\"/> <meta content=\"IE=edge\" http-equiv=\"X-UA-Compatible\"/> <meta content=\"width=device-width, initial-scale=1.0\" name=\"viewport\"/> <title>Web Scraping Introduction</title></head>"
      ]
     },
     "execution_count": 7,
     "metadata": {},
     "output_type": "execute_result"
    }
   ],
   "source": [
    "data.head"
   ]
  },
  {
   "cell_type": "code",
   "execution_count": 8,
   "id": "9c30b220",
   "metadata": {},
   "outputs": [
    {
     "data": {
      "text/plain": [
       "<body> <h1 class=\"abc\">Hello World!</h1> <h2 class=\"abc\">Let's start learning <span><b><i>Web Scraping</i></b></span></h2> <a href=\"https://www.freecodecamp.org/news/web-scraping-python-tutorial-how-to-scrape-data-from-a-website/\" id=\"freecodecamp\">Web Scraping Tutorial</a> <p class=\"abc\"> <a href=\"https://www.freecodecamp.org/\">Free Codecamp</a> </p></body>"
      ]
     },
     "execution_count": 8,
     "metadata": {},
     "output_type": "execute_result"
    }
   ],
   "source": [
    "data.body"
   ]
  },
  {
   "cell_type": "code",
   "execution_count": 9,
   "id": "ea24a481",
   "metadata": {},
   "outputs": [
    {
     "data": {
      "text/plain": [
       "<p class=\"abc\"> <a href=\"https://www.freecodecamp.org/\">Free Codecamp</a> </p>"
      ]
     },
     "execution_count": 9,
     "metadata": {},
     "output_type": "execute_result"
    }
   ],
   "source": [
    "data.p"
   ]
  },
  {
   "cell_type": "code",
   "execution_count": 10,
   "id": "2559a57b",
   "metadata": {},
   "outputs": [
    {
     "data": {
      "text/plain": [
       "[<p class=\"abc\"> <a href=\"https://www.freecodecamp.org/\">Free Codecamp</a> </p>]"
      ]
     },
     "execution_count": 10,
     "metadata": {},
     "output_type": "execute_result"
    }
   ],
   "source": [
    "data.find_all('p')"
   ]
  },
  {
   "cell_type": "code",
   "execution_count": 11,
   "id": "92ca0135",
   "metadata": {},
   "outputs": [
    {
     "data": {
      "text/plain": [
       "<a href=\"https://www.freecodecamp.org/news/web-scraping-python-tutorial-how-to-scrape-data-from-a-website/\" id=\"freecodecamp\">Web Scraping Tutorial</a>"
      ]
     },
     "execution_count": 11,
     "metadata": {},
     "output_type": "execute_result"
    }
   ],
   "source": [
    "data.find('a')"
   ]
  },
  {
   "cell_type": "code",
   "execution_count": 12,
   "id": "72cd5f46",
   "metadata": {},
   "outputs": [
    {
     "data": {
      "text/plain": [
       "<h1 class=\"abc\">Hello World!</h1>"
      ]
     },
     "execution_count": 12,
     "metadata": {},
     "output_type": "execute_result"
    }
   ],
   "source": [
    "data.find('h1')"
   ]
  },
  {
   "cell_type": "code",
   "execution_count": 13,
   "id": "c7b7dec2",
   "metadata": {},
   "outputs": [
    {
     "data": {
      "text/plain": [
       "<h2 class=\"abc\">Let's start learning <span><b><i>Web Scraping</i></b></span></h2>"
      ]
     },
     "execution_count": 13,
     "metadata": {},
     "output_type": "execute_result"
    }
   ],
   "source": [
    "data.find('h2')"
   ]
  },
  {
   "cell_type": "code",
   "execution_count": 14,
   "id": "8616c57e",
   "metadata": {},
   "outputs": [],
   "source": [
    "data.find('h6')"
   ]
  },
  {
   "cell_type": "code",
   "execution_count": 15,
   "id": "d0931b5a",
   "metadata": {},
   "outputs": [
    {
     "data": {
      "text/plain": [
       "[<a href=\"https://www.freecodecamp.org/news/web-scraping-python-tutorial-how-to-scrape-data-from-a-website/\" id=\"freecodecamp\">Web Scraping Tutorial</a>,\n",
       " <a href=\"https://www.freecodecamp.org/\">Free Codecamp</a>]"
      ]
     },
     "execution_count": 15,
     "metadata": {},
     "output_type": "execute_result"
    }
   ],
   "source": [
    "data.find_all('a')"
   ]
  },
  {
   "cell_type": "code",
   "execution_count": 16,
   "id": "f8718e22",
   "metadata": {},
   "outputs": [
    {
     "data": {
      "text/plain": [
       "{'class': ['abc']}"
      ]
     },
     "execution_count": 16,
     "metadata": {},
     "output_type": "execute_result"
    }
   ],
   "source": [
    "data.p.attrs"
   ]
  },
  {
   "cell_type": "code",
   "execution_count": 17,
   "id": "e4c1d652",
   "metadata": {},
   "outputs": [
    {
     "data": {
      "text/plain": [
       "{'class': ['abc']}"
      ]
     },
     "execution_count": 17,
     "metadata": {},
     "output_type": "execute_result"
    }
   ],
   "source": [
    "data.h1.attrs"
   ]
  },
  {
   "cell_type": "code",
   "execution_count": 18,
   "id": "5c11bb30",
   "metadata": {},
   "outputs": [
    {
     "data": {
      "text/plain": [
       "{'id': 'freecodecamp',\n",
       " 'href': 'https://www.freecodecamp.org/news/web-scraping-python-tutorial-how-to-scrape-data-from-a-website/'}"
      ]
     },
     "execution_count": 18,
     "metadata": {},
     "output_type": "execute_result"
    }
   ],
   "source": [
    "data.a.attrs"
   ]
  },
  {
   "cell_type": "code",
   "execution_count": 19,
   "id": "568b02b9",
   "metadata": {},
   "outputs": [
    {
     "name": "stdout",
     "output_type": "stream",
     "text": [
      "<title>Web Scraping Introduction</title>\n"
     ]
    }
   ],
   "source": [
    "print(data.title)"
   ]
  },
  {
   "cell_type": "code",
   "execution_count": 20,
   "id": "5caac2fa",
   "metadata": {},
   "outputs": [
    {
     "name": "stdout",
     "output_type": "stream",
     "text": [
      "title\n"
     ]
    }
   ],
   "source": [
    "print(data.title.name)"
   ]
  },
  {
   "cell_type": "code",
   "execution_count": 21,
   "id": "82cca660",
   "metadata": {},
   "outputs": [
    {
     "name": "stdout",
     "output_type": "stream",
     "text": [
      "Web Scraping Introduction\n"
     ]
    }
   ],
   "source": [
    "print(data.title.string)"
   ]
  },
  {
   "cell_type": "code",
   "execution_count": 30,
   "id": "dfc1fc8e",
   "metadata": {},
   "outputs": [
    {
     "data": {
      "text/plain": [
       "[<h1 class=\"abc\">Hello World!</h1>,\n",
       " <h2 class=\"abc\">Let's start learning <span><b><i>Web Scraping</i></b></span></h2>,\n",
       " <p class=\"abc\"> <a href=\"https://www.freecodecamp.org/\">Free Codecamp</a> </p>]"
      ]
     },
     "execution_count": 30,
     "metadata": {},
     "output_type": "execute_result"
    }
   ],
   "source": [
    "li = data.find_all(class_='abc')\n",
    "li"
   ]
  },
  {
   "cell_type": "code",
   "execution_count": 34,
   "id": "8cb82dd1",
   "metadata": {},
   "outputs": [
    {
     "name": "stdout",
     "output_type": "stream",
     "text": [
      "Hello World!\n",
      "<generator object Tag._all_strings at 0x00000292C1DE8AC0>\n",
      "['Hello World!']\n",
      "None\n",
      "<generator object Tag._all_strings at 0x00000292C1DE8AC0>\n",
      "[\"Let's start learning \", 'Web Scraping']\n",
      "None\n",
      "<generator object Tag._all_strings at 0x00000292C1DE8DD0>\n",
      "[' ', 'Free Codecamp', ' ']\n"
     ]
    }
   ],
   "source": [
    "for i in li:\n",
    "    print(i.string)\n",
    "    print(i.strings)\n",
    "    print(list(i.strings))"
   ]
  },
  {
   "cell_type": "code",
   "execution_count": 36,
   "id": "417f53ee",
   "metadata": {},
   "outputs": [
    {
     "data": {
      "text/plain": [
       "[' ', ' ', ' ', ' ', 'Web Scraping Introduction']"
      ]
     },
     "execution_count": 36,
     "metadata": {},
     "output_type": "execute_result"
    }
   ],
   "source": [
    "list(data.head.strings)"
   ]
  },
  {
   "cell_type": "code",
   "execution_count": 42,
   "id": "0ab4cae1",
   "metadata": {},
   "outputs": [
    {
     "data": {
      "text/plain": [
       "<p class=\"abc\"> <a href=\"https://www.freecodecamp.org/\">Free Codecamp</a> </p>"
      ]
     },
     "execution_count": 42,
     "metadata": {},
     "output_type": "execute_result"
    }
   ],
   "source": [
    "data.p"
   ]
  },
  {
   "cell_type": "code",
   "execution_count": 44,
   "id": "1ebf2e3f",
   "metadata": {},
   "outputs": [
    {
     "data": {
      "text/plain": [
       "'freecodecamp'"
      ]
     },
     "execution_count": 44,
     "metadata": {},
     "output_type": "execute_result"
    }
   ],
   "source": [
    "data.a.get('id')"
   ]
  },
  {
   "cell_type": "code",
   "execution_count": 45,
   "id": "ae8a9d98",
   "metadata": {},
   "outputs": [
    {
     "data": {
      "text/plain": [
       "['abc']"
      ]
     },
     "execution_count": 45,
     "metadata": {},
     "output_type": "execute_result"
    }
   ],
   "source": [
    "data.h2.get('class')"
   ]
  },
  {
   "cell_type": "code",
   "execution_count": 46,
   "id": "1e48e4e4",
   "metadata": {},
   "outputs": [
    {
     "data": {
      "text/plain": [
       "'freecodecamp'"
      ]
     },
     "execution_count": 46,
     "metadata": {},
     "output_type": "execute_result"
    }
   ],
   "source": [
    "data.a['id']"
   ]
  },
  {
   "cell_type": "code",
   "execution_count": 47,
   "id": "a3ca7554",
   "metadata": {},
   "outputs": [
    {
     "data": {
      "text/plain": [
       "<a href=\"https://www.freecodecamp.org/news/web-scraping-python-tutorial-how-to-scrape-data-from-a-website/\" id=\"freecodecamp\">Web Scraping Tutorial</a>"
      ]
     },
     "execution_count": 47,
     "metadata": {},
     "output_type": "execute_result"
    }
   ],
   "source": [
    "data.a"
   ]
  },
  {
   "cell_type": "code",
   "execution_count": 49,
   "id": "f741e6d8",
   "metadata": {},
   "outputs": [
    {
     "data": {
      "text/plain": [
       "\"    Web Scraping Introduction Hello World! Let's start learning Web Scraping Web Scraping Tutorial  Free Codecamp \""
      ]
     },
     "execution_count": 49,
     "metadata": {},
     "output_type": "execute_result"
    }
   ],
   "source": [
    "data.get_text()"
   ]
  },
  {
   "cell_type": "code",
   "execution_count": 50,
   "id": "8d295f82",
   "metadata": {},
   "outputs": [
    {
     "name": "stdout",
     "output_type": "stream",
     "text": [
      "<p class=\"abc\"> <a href=\"https://www.freecodecamp.org/\">Free Codecamp</a> </p>\n"
     ]
    }
   ],
   "source": [
    "li = data.find_all('p')\n",
    "for i in li:\n",
    "    print(i)"
   ]
  },
  {
   "cell_type": "code",
   "execution_count": 51,
   "id": "8a887bda",
   "metadata": {},
   "outputs": [
    {
     "data": {
      "text/plain": [
       "[<a href=\"https://www.freecodecamp.org/news/web-scraping-python-tutorial-how-to-scrape-data-from-a-website/\" id=\"freecodecamp\">Web Scraping Tutorial</a>,\n",
       " <p class=\"abc\"> <a href=\"https://www.freecodecamp.org/\">Free Codecamp</a> </p>,\n",
       " <a href=\"https://www.freecodecamp.org/\">Free Codecamp</a>]"
      ]
     },
     "execution_count": 51,
     "metadata": {},
     "output_type": "execute_result"
    }
   ],
   "source": [
    "data.find_all(['a','p'])"
   ]
  },
  {
   "cell_type": "code",
   "execution_count": 52,
   "id": "012aaf8b",
   "metadata": {},
   "outputs": [
    {
     "data": {
      "text/plain": [
       "[<html lang=\"en\"><head> <meta charset=\"utf-8\"/> <meta content=\"IE=edge\" http-equiv=\"X-UA-Compatible\"/> <meta content=\"width=device-width, initial-scale=1.0\" name=\"viewport\"/> <title>Web Scraping Introduction</title></head><body> <h1 class=\"abc\">Hello World!</h1> <h2 class=\"abc\">Let's start learning <span><b><i>Web Scraping</i></b></span></h2> <a href=\"https://www.freecodecamp.org/news/web-scraping-python-tutorial-how-to-scrape-data-from-a-website/\" id=\"freecodecamp\">Web Scraping Tutorial</a> <p class=\"abc\"> <a href=\"https://www.freecodecamp.org/\">Free Codecamp</a> </p></body></html>,\n",
       " <head> <meta charset=\"utf-8\"/> <meta content=\"IE=edge\" http-equiv=\"X-UA-Compatible\"/> <meta content=\"width=device-width, initial-scale=1.0\" name=\"viewport\"/> <title>Web Scraping Introduction</title></head>,\n",
       " <meta charset=\"utf-8\"/>,\n",
       " <meta content=\"IE=edge\" http-equiv=\"X-UA-Compatible\"/>,\n",
       " <meta content=\"width=device-width, initial-scale=1.0\" name=\"viewport\"/>,\n",
       " <title>Web Scraping Introduction</title>,\n",
       " <body> <h1 class=\"abc\">Hello World!</h1> <h2 class=\"abc\">Let's start learning <span><b><i>Web Scraping</i></b></span></h2> <a href=\"https://www.freecodecamp.org/news/web-scraping-python-tutorial-how-to-scrape-data-from-a-website/\" id=\"freecodecamp\">Web Scraping Tutorial</a> <p class=\"abc\"> <a href=\"https://www.freecodecamp.org/\">Free Codecamp</a> </p></body>,\n",
       " <h1 class=\"abc\">Hello World!</h1>,\n",
       " <h2 class=\"abc\">Let's start learning <span><b><i>Web Scraping</i></b></span></h2>,\n",
       " <span><b><i>Web Scraping</i></b></span>,\n",
       " <b><i>Web Scraping</i></b>,\n",
       " <i>Web Scraping</i>,\n",
       " <a href=\"https://www.freecodecamp.org/news/web-scraping-python-tutorial-how-to-scrape-data-from-a-website/\" id=\"freecodecamp\">Web Scraping Tutorial</a>,\n",
       " <p class=\"abc\"> <a href=\"https://www.freecodecamp.org/\">Free Codecamp</a> </p>,\n",
       " <a href=\"https://www.freecodecamp.org/\">Free Codecamp</a>]"
      ]
     },
     "execution_count": 52,
     "metadata": {},
     "output_type": "execute_result"
    }
   ],
   "source": [
    "data.find_all(True)"
   ]
  },
  {
   "cell_type": "code",
   "execution_count": 55,
   "id": "813287c0",
   "metadata": {},
   "outputs": [
    {
     "data": {
      "text/plain": [
       "[]"
      ]
     },
     "execution_count": 55,
     "metadata": {},
     "output_type": "execute_result"
    }
   ],
   "source": [
    "data.find_all_previous('span')"
   ]
  },
  {
   "cell_type": "code",
   "execution_count": 56,
   "id": "6816eb56",
   "metadata": {},
   "outputs": [
    {
     "data": {
      "text/plain": [
       "[<a href=\"https://www.freecodecamp.org/news/web-scraping-python-tutorial-how-to-scrape-data-from-a-website/\" id=\"freecodecamp\">Web Scraping Tutorial</a>]"
      ]
     },
     "execution_count": 56,
     "metadata": {},
     "output_type": "execute_result"
    }
   ],
   "source": [
    "data.find_all(id='freecodecamp')"
   ]
  },
  {
   "cell_type": "code",
   "execution_count": 59,
   "id": "7106e992",
   "metadata": {},
   "outputs": [
    {
     "name": "stdout",
     "output_type": "stream",
     "text": [
      "['Web Scraping Tutorial']\n",
      "['Free Codecamp']\n"
     ]
    }
   ],
   "source": [
    "li = data.find_all('a')\n",
    "for i in li:\n",
    "    print(list(i.stripped_strings))"
   ]
  },
  {
   "cell_type": "code",
   "execution_count": 60,
   "id": "57be9537",
   "metadata": {},
   "outputs": [
    {
     "data": {
      "text/plain": [
       "<title>Web Scraping Introduction</title>"
      ]
     },
     "execution_count": 60,
     "metadata": {},
     "output_type": "execute_result"
    }
   ],
   "source": [
    "data.head.title"
   ]
  },
  {
   "cell_type": "code",
   "execution_count": 62,
   "id": "5941ec62",
   "metadata": {},
   "outputs": [
    {
     "data": {
      "text/plain": [
       "'Web Scraping Introduction'"
      ]
     },
     "execution_count": 62,
     "metadata": {},
     "output_type": "execute_result"
    }
   ],
   "source": [
    "data.title.string"
   ]
  },
  {
   "cell_type": "code",
   "execution_count": 63,
   "id": "4d1d56fe",
   "metadata": {},
   "outputs": [
    {
     "data": {
      "text/plain": [
       "<html lang=\"en\"><head> <meta charset=\"utf-8\"/> <meta content=\"IE=edge\" http-equiv=\"X-UA-Compatible\"/> <meta content=\"width=device-width, initial-scale=1.0\" name=\"viewport\"/> <title>Web Scraping Introduction</title></head><body> <h1 class=\"abc\">Hello World!</h1> <h2 class=\"abc\">Let's start learning <span><b><i>Web Scraping</i></b></span></h2> <a href=\"https://www.freecodecamp.org/news/web-scraping-python-tutorial-how-to-scrape-data-from-a-website/\" id=\"freecodecamp\">Web Scraping Tutorial</a> <p class=\"abc\"> <a href=\"https://www.freecodecamp.org/\">Free Codecamp</a> </p></body></html>"
      ]
     },
     "execution_count": 63,
     "metadata": {},
     "output_type": "execute_result"
    }
   ],
   "source": [
    "data.html"
   ]
  },
  {
   "cell_type": "code",
   "execution_count": 65,
   "id": "7fa4be4c",
   "metadata": {},
   "outputs": [
    {
     "name": "stdout",
     "output_type": "stream",
     "text": [
      "2\n",
      "[<head> <meta charset=\"utf-8\"/> <meta content=\"IE=edge\" http-equiv=\"X-UA-Compatible\"/> <meta content=\"width=device-width, initial-scale=1.0\" name=\"viewport\"/> <title>Web Scraping Introduction</title></head>, <body> <h1 class=\"abc\">Hello World!</h1> <h2 class=\"abc\">Let's start learning <span><b><i>Web Scraping</i></b></span></h2> <a href=\"https://www.freecodecamp.org/news/web-scraping-python-tutorial-how-to-scrape-data-from-a-website/\" id=\"freecodecamp\">Web Scraping Tutorial</a> <p class=\"abc\"> <a href=\"https://www.freecodecamp.org/\">Free Codecamp</a> </p></body>]\n"
     ]
    }
   ],
   "source": [
    "li = data.html.contents\n",
    "print(len(li))\n",
    "print(li)"
   ]
  },
  {
   "cell_type": "code",
   "execution_count": 68,
   "id": "836bc2d8",
   "metadata": {},
   "outputs": [
    {
     "name": "stdout",
     "output_type": "stream",
     "text": [
      "2\n",
      "[<head> <meta charset=\"utf-8\"/> <meta content=\"IE=edge\" http-equiv=\"X-UA-Compatible\"/> <meta content=\"width=device-width, initial-scale=1.0\" name=\"viewport\"/> <title>Web Scraping Introduction</title></head>, <body> <h1 class=\"abc\">Hello World!</h1> <h2 class=\"abc\">Let's start learning <span><b><i>Web Scraping</i></b></span></h2> <a href=\"https://www.freecodecamp.org/news/web-scraping-python-tutorial-how-to-scrape-data-from-a-website/\" id=\"freecodecamp\">Web Scraping Tutorial</a> <p class=\"abc\"> <a href=\"https://www.freecodecamp.org/\">Free Codecamp</a> </p></body>]\n"
     ]
    }
   ],
   "source": [
    "li = data.html.children\n",
    "li = list(li)\n",
    "print(len(li))\n",
    "print(li)"
   ]
  },
  {
   "cell_type": "code",
   "execution_count": 71,
   "id": "6b5ce867",
   "metadata": {},
   "outputs": [
    {
     "name": "stdout",
     "output_type": "stream",
     "text": [
      "30\n",
      "[<head> <meta charset=\"utf-8\"/> <meta content=\"IE=edge\" http-equiv=\"X-UA-Compatible\"/> <meta content=\"width=device-width, initial-scale=1.0\" name=\"viewport\"/> <title>Web Scraping Introduction</title></head>, ' ', <meta charset=\"utf-8\"/>, ' ', <meta content=\"IE=edge\" http-equiv=\"X-UA-Compatible\"/>, ' ', <meta content=\"width=device-width, initial-scale=1.0\" name=\"viewport\"/>, ' ', <title>Web Scraping Introduction</title>, 'Web Scraping Introduction', <body> <h1 class=\"abc\">Hello World!</h1> <h2 class=\"abc\">Let's start learning <span><b><i>Web Scraping</i></b></span></h2> <a href=\"https://www.freecodecamp.org/news/web-scraping-python-tutorial-how-to-scrape-data-from-a-website/\" id=\"freecodecamp\">Web Scraping Tutorial</a> <p class=\"abc\"> <a href=\"https://www.freecodecamp.org/\">Free Codecamp</a> </p></body>, ' ', <h1 class=\"abc\">Hello World!</h1>, 'Hello World!', ' ', <h2 class=\"abc\">Let's start learning <span><b><i>Web Scraping</i></b></span></h2>, \"Let's start learning \", <span><b><i>Web Scraping</i></b></span>, <b><i>Web Scraping</i></b>, <i>Web Scraping</i>, 'Web Scraping', ' ', <a href=\"https://www.freecodecamp.org/news/web-scraping-python-tutorial-how-to-scrape-data-from-a-website/\" id=\"freecodecamp\">Web Scraping Tutorial</a>, 'Web Scraping Tutorial', ' ', <p class=\"abc\"> <a href=\"https://www.freecodecamp.org/\">Free Codecamp</a> </p>, ' ', <a href=\"https://www.freecodecamp.org/\">Free Codecamp</a>, 'Free Codecamp', ' ']\n"
     ]
    }
   ],
   "source": [
    "li = data.html.descendants\n",
    "li = list(li)\n",
    "print(len(li))\n",
    "print(li)"
   ]
  },
  {
   "cell_type": "code",
   "execution_count": 79,
   "id": "f816c2b2",
   "metadata": {},
   "outputs": [],
   "source": [
    "li = data.html.next_sibling\n",
    "li"
   ]
  },
  {
   "cell_type": "code",
   "execution_count": 82,
   "id": "4878282c",
   "metadata": {},
   "outputs": [
    {
     "data": {
      "text/plain": [
       "[]"
      ]
     },
     "execution_count": 82,
     "metadata": {},
     "output_type": "execute_result"
    }
   ],
   "source": [
    "li = data.html.next_siblings\n",
    "list(li)"
   ]
  },
  {
   "cell_type": "code",
   "execution_count": 83,
   "id": "e473496a",
   "metadata": {},
   "outputs": [
    {
     "data": {
      "text/plain": [
       "<!DOCTYPE html>\n",
       "<html lang=\"en\"><head> <meta charset=\"utf-8\"/> <meta content=\"IE=edge\" http-equiv=\"X-UA-Compatible\"/> <meta content=\"width=device-width, initial-scale=1.0\" name=\"viewport\"/> <title>Web Scraping Introduction</title></head><body> <h1 class=\"abc\">Hello World!</h1> <h2 class=\"abc\">Let's start learning <span><b><i>Web Scraping</i></b></span></h2> <a href=\"https://www.freecodecamp.org/news/web-scraping-python-tutorial-how-to-scrape-data-from-a-website/\" id=\"freecodecamp\">Web Scraping Tutorial</a> <p class=\"abc\"> <a href=\"https://www.freecodecamp.org/\">Free Codecamp</a> </p></body></html>"
      ]
     },
     "execution_count": 83,
     "metadata": {},
     "output_type": "execute_result"
    }
   ],
   "source": [
    "li = data.html.parent\n",
    "li"
   ]
  },
  {
   "cell_type": "code",
   "execution_count": 90,
   "id": "123f4047",
   "metadata": {},
   "outputs": [
    {
     "name": "stdout",
     "output_type": "stream",
     "text": [
      "['Web Scraping Introduction', 'Hello World!', \"Let's start learning\", 'Web Scraping', 'Web Scraping Tutorial', 'Free Codecamp']\n"
     ]
    }
   ],
   "source": [
    "li = data.html.parents\n",
    "for i in list(li):\n",
    "    print(list(i.stripped_strings))"
   ]
  },
  {
   "cell_type": "code",
   "execution_count": 91,
   "id": "7a1e7fde",
   "metadata": {},
   "outputs": [
    {
     "data": {
      "text/plain": [
       "<head> <meta charset=\"utf-8\"/> <meta content=\"IE=edge\" http-equiv=\"X-UA-Compatible\"/> <meta content=\"width=device-width, initial-scale=1.0\" name=\"viewport\"/> <title>Web Scraping Introduction</title></head>"
      ]
     },
     "execution_count": 91,
     "metadata": {},
     "output_type": "execute_result"
    }
   ],
   "source": [
    "li = data.html.next_element\n",
    "li"
   ]
  },
  {
   "cell_type": "code",
   "execution_count": 99,
   "id": "00b5cf2a",
   "metadata": {},
   "outputs": [
    {
     "data": {
      "text/plain": [
       "[<head> <meta charset=\"utf-8\"/> <meta content=\"IE=edge\" http-equiv=\"X-UA-Compatible\"/> <meta content=\"width=device-width, initial-scale=1.0\" name=\"viewport\"/> <title>Web Scraping Introduction</title></head>,\n",
       " ' ',\n",
       " <meta charset=\"utf-8\"/>,\n",
       " ' ',\n",
       " <meta content=\"IE=edge\" http-equiv=\"X-UA-Compatible\"/>,\n",
       " ' ',\n",
       " <meta content=\"width=device-width, initial-scale=1.0\" name=\"viewport\"/>,\n",
       " ' ',\n",
       " <title>Web Scraping Introduction</title>,\n",
       " 'Web Scraping Introduction',\n",
       " <body> <h1 class=\"abc\">Hello World!</h1> <h2 class=\"abc\">Let's start learning <span><b><i>Web Scraping</i></b></span></h2> <a href=\"https://www.freecodecamp.org/news/web-scraping-python-tutorial-how-to-scrape-data-from-a-website/\" id=\"freecodecamp\">Web Scraping Tutorial</a> <p class=\"abc\"> <a href=\"https://www.freecodecamp.org/\">Free Codecamp</a> </p></body>,\n",
       " ' ',\n",
       " <h1 class=\"abc\">Hello World!</h1>,\n",
       " 'Hello World!',\n",
       " ' ',\n",
       " <h2 class=\"abc\">Let's start learning <span><b><i>Web Scraping</i></b></span></h2>,\n",
       " \"Let's start learning \",\n",
       " <span><b><i>Web Scraping</i></b></span>,\n",
       " <b><i>Web Scraping</i></b>,\n",
       " <i>Web Scraping</i>,\n",
       " 'Web Scraping',\n",
       " ' ',\n",
       " <a href=\"https://www.freecodecamp.org/news/web-scraping-python-tutorial-how-to-scrape-data-from-a-website/\" id=\"freecodecamp\">Web Scraping Tutorial</a>,\n",
       " 'Web Scraping Tutorial',\n",
       " ' ',\n",
       " <p class=\"abc\"> <a href=\"https://www.freecodecamp.org/\">Free Codecamp</a> </p>,\n",
       " ' ',\n",
       " <a href=\"https://www.freecodecamp.org/\">Free Codecamp</a>,\n",
       " 'Free Codecamp',\n",
       " ' ']"
      ]
     },
     "execution_count": 99,
     "metadata": {},
     "output_type": "execute_result"
    }
   ],
   "source": [
    "li = data.html.next_elements\n",
    "list(li)"
   ]
  },
  {
   "cell_type": "code",
   "execution_count": 100,
   "id": "99f6394e",
   "metadata": {},
   "outputs": [
    {
     "data": {
      "text/plain": [
       "'html'"
      ]
     },
     "execution_count": 100,
     "metadata": {},
     "output_type": "execute_result"
    }
   ],
   "source": [
    "li = data.html.previous_element\n",
    "li"
   ]
  },
  {
   "cell_type": "code",
   "execution_count": 102,
   "id": "72877dee",
   "metadata": {},
   "outputs": [
    {
     "data": {
      "text/plain": [
       "['html']"
      ]
     },
     "execution_count": 102,
     "metadata": {},
     "output_type": "execute_result"
    }
   ],
   "source": [
    "li = data.html.previous_elements\n",
    "list(li)"
   ]
  },
  {
   "cell_type": "code",
   "execution_count": 103,
   "id": "dfac2e13",
   "metadata": {},
   "outputs": [
    {
     "data": {
      "text/plain": [
       "'html'"
      ]
     },
     "execution_count": 103,
     "metadata": {},
     "output_type": "execute_result"
    }
   ],
   "source": [
    "li = data.html.previous_sibling\n",
    "li"
   ]
  },
  {
   "cell_type": "code",
   "execution_count": 106,
   "id": "31bb7bfa",
   "metadata": {},
   "outputs": [
    {
     "data": {
      "text/plain": [
       "['html']"
      ]
     },
     "execution_count": 106,
     "metadata": {},
     "output_type": "execute_result"
    }
   ],
   "source": [
    "li = data.html.previous_siblings\n",
    "list(li)"
   ]
  },
  {
   "cell_type": "code",
   "execution_count": 107,
   "id": "65287503",
   "metadata": {},
   "outputs": [],
   "source": [
    "import requests"
   ]
  },
  {
   "cell_type": "code",
   "execution_count": 108,
   "id": "62de9b63",
   "metadata": {},
   "outputs": [
    {
     "data": {
      "text/plain": [
       "200"
      ]
     },
     "execution_count": 108,
     "metadata": {},
     "output_type": "execute_result"
    }
   ],
   "source": [
    "response = requests.get('http://info.cern.ch/hypertext/WWW/TheProject.html')\n",
    "response.status_code"
   ]
  },
  {
   "cell_type": "code",
   "execution_count": 110,
   "id": "42e9f210",
   "metadata": {},
   "outputs": [
    {
     "name": "stdout",
     "output_type": "stream",
     "text": [
      "{'Date': 'Fri, 17 Sep 2021 13:10:58 GMT', 'Server': 'Apache', 'Last-Modified': 'Thu, 03 Dec 1992 08:37:20 GMT', 'ETag': '\"8a9-291e721905000\"', 'Accept-Ranges': 'bytes', 'Content-Length': '2217', 'Connection': 'close', 'Content-Type': 'text/html'}\n"
     ]
    }
   ],
   "source": [
    "print(response.headers)"
   ]
  },
  {
   "cell_type": "code",
   "execution_count": 109,
   "id": "8c335304",
   "metadata": {},
   "outputs": [
    {
     "name": "stdout",
     "output_type": "stream",
     "text": [
      "<HEADER>\n",
      "<TITLE>The World Wide Web project</TITLE>\n",
      "<NEXTID N=\"55\">\n",
      "</HEADER>\n",
      "<BODY>\n",
      "<H1>World Wide Web</H1>The WorldWideWeb (W3) is a wide-area<A\n",
      "NAME=0 HREF=\"WhatIs.html\">\n",
      "hypermedia</A> information retrieval\n",
      "initiative aiming to give universal\n",
      "access to a large universe of documents.<P>\n",
      "Everything there is online about\n",
      "W3 is linked directly or indirectly\n",
      "to this document, including an <A\n",
      "NAME=24 HREF=\"Summary.html\">executive\n",
      "summary</A> of the project, <A\n",
      "NAME=29 HREF=\"Administration/Mailing/Overview.html\">Mailing lists</A>\n",
      ", <A\n",
      "NAME=30 HREF=\"Policy.html\">Policy</A> , November's  <A\n",
      "NAME=34 HREF=\"News/9211.html\">W3  news</A> ,\n",
      "<A\n",
      "NAME=41 HREF=\"FAQ/List.html\">Frequently Asked Questions</A> .\n",
      "<DL>\n",
      "<DT><A\n",
      "NAME=44 HREF=\"../DataSources/Top.html\">What's out there?</A>\n",
      "<DD> Pointers to the\n",
      "world's online information,<A\n",
      "NAME=45 HREF=\"../DataSources/bySubject/Overview.html\"> subjects</A>\n",
      ", <A\n",
      "NAME=z54 HREF=\"../DataSources/WWW/Servers.html\">W3 servers</A>, etc.\n",
      "<DT><A\n",
      "NAME=46 HREF=\"Help.html\">Help</A>\n",
      "<DD> on the browser you are using\n",
      "<DT><A\n",
      "NAME=13 HREF=\"Status.html\">Software Products</A>\n",
      "<DD> A list of W3 project\n",
      "components and their current state.\n",
      "(e.g. <A\n",
      "NAME=27 HREF=\"LineMode/Browser.html\">Line Mode</A> ,X11 <A\n",
      "NAME=35 HREF=\"Status.html#35\">Viola</A> ,  <A\n",
      "NAME=26 HREF=\"NeXT/WorldWideWeb.html\">NeXTStep</A>\n",
      ", <A\n",
      "NAME=25 HREF=\"Daemon/Overview.html\">Servers</A> , <A\n",
      "NAME=51 HREF=\"Tools/Overview.html\">Tools</A> ,<A\n",
      "NAME=53 HREF=\"MailRobot/Overview.html\"> Mail robot</A> ,<A\n",
      "NAME=52 HREF=\"Status.html#57\">\n",
      "Library</A> )\n",
      "<DT><A\n",
      "NAME=47 HREF=\"Technical.html\">Technical</A>\n",
      "<DD> Details of protocols, formats,\n",
      "program internals etc\n",
      "<DT><A\n",
      "NAME=40 HREF=\"Bibliography.html\">Bibliography</A>\n",
      "<DD> Paper documentation\n",
      "on  W3 and references.\n",
      "<DT><A\n",
      "NAME=14 HREF=\"People.html\">People</A>\n",
      "<DD> A list of some people involved\n",
      "in the project.\n",
      "<DT><A\n",
      "NAME=15 HREF=\"History.html\">History</A>\n",
      "<DD> A summary of the history\n",
      "of the project.\n",
      "<DT><A\n",
      "NAME=37 HREF=\"Helping.html\">How can I help</A> ?\n",
      "<DD> If you would like\n",
      "to support the web..\n",
      "<DT><A\n",
      "NAME=48 HREF=\"../README.html\">Getting code</A>\n",
      "<DD> Getting the code by<A\n",
      "NAME=49 HREF=\"LineMode/Defaults/Distribution.html\">\n",
      "anonymous FTP</A> , etc.</A>\n",
      "</DL>\n",
      "</BODY>\n",
      "\n"
     ]
    }
   ],
   "source": [
    "print(response.text)"
   ]
  },
  {
   "cell_type": "code",
   "execution_count": 111,
   "id": "ddd2be4f",
   "metadata": {},
   "outputs": [
    {
     "data": {
      "text/plain": [
       "str"
      ]
     },
     "execution_count": 111,
     "metadata": {},
     "output_type": "execute_result"
    }
   ],
   "source": [
    "data = response.text\n",
    "type(data)"
   ]
  },
  {
   "cell_type": "code",
   "execution_count": 124,
   "id": "d6a5a296",
   "metadata": {},
   "outputs": [
    {
     "name": "stdout",
     "output_type": "stream",
     "text": [
      "<header>\n",
      " <title>\n",
      "  The World Wide Web project\n",
      " </title>\n",
      " <nextid n=\"55\"/>\n",
      "</header>\n",
      "<body>\n",
      " <h1>\n",
      "  World Wide Web\n",
      " </h1>\n",
      " The WorldWideWeb (W3) is a wide-area\n",
      " <a href=\"WhatIs.html\" name=\"0\">\n",
      "  hypermedia\n",
      " </a>\n",
      " information retrieval\n",
      "initiative aiming to give universal\n",
      "access to a large universe of documents.\n",
      " <p>\n",
      "  Everything there is online about\n",
      "W3 is linked directly or indirectly\n",
      "to this document, including an\n",
      "  <a href=\"Summary.html\" name=\"24\">\n",
      "   executive\n",
      "summary\n",
      "  </a>\n",
      "  of the project,\n",
      "  <a href=\"Administration/Mailing/Overview.html\" name=\"29\">\n",
      "   Mailing lists\n",
      "  </a>\n",
      "  ,\n",
      "  <a href=\"Policy.html\" name=\"30\">\n",
      "   Policy\n",
      "  </a>\n",
      "  , November's\n",
      "  <a href=\"News/9211.html\" name=\"34\">\n",
      "   W3  news\n",
      "  </a>\n",
      "  ,\n",
      "  <a href=\"FAQ/List.html\" name=\"41\">\n",
      "   Frequently Asked Questions\n",
      "  </a>\n",
      "  .\n",
      "  <dl>\n",
      "   <dt>\n",
      "    <a href=\"../DataSources/Top.html\" name=\"44\">\n",
      "     What's out there?\n",
      "    </a>\n",
      "    <dd>\n",
      "     Pointers to the\n",
      "world's online information,\n",
      "     <a href=\"../DataSources/bySubject/Overview.html\" name=\"45\">\n",
      "      subjects\n",
      "     </a>\n",
      "     ,\n",
      "     <a href=\"../DataSources/WWW/Servers.html\" name=\"z54\">\n",
      "      W3 servers\n",
      "     </a>\n",
      "     , etc.\n",
      "     <dt>\n",
      "      <a href=\"Help.html\" name=\"46\">\n",
      "       Help\n",
      "      </a>\n",
      "      <dd>\n",
      "       on the browser you are using\n",
      "       <dt>\n",
      "        <a href=\"Status.html\" name=\"13\">\n",
      "         Software Products\n",
      "        </a>\n",
      "        <dd>\n",
      "         A list of W3 project\n",
      "components and their current state.\n",
      "(e.g.\n",
      "         <a href=\"LineMode/Browser.html\" name=\"27\">\n",
      "          Line Mode\n",
      "         </a>\n",
      "         ,X11\n",
      "         <a href=\"Status.html#35\" name=\"35\">\n",
      "          Viola\n",
      "         </a>\n",
      "         ,\n",
      "         <a href=\"NeXT/WorldWideWeb.html\" name=\"26\">\n",
      "          NeXTStep\n",
      "         </a>\n",
      "         ,\n",
      "         <a href=\"Daemon/Overview.html\" name=\"25\">\n",
      "          Servers\n",
      "         </a>\n",
      "         ,\n",
      "         <a href=\"Tools/Overview.html\" name=\"51\">\n",
      "          Tools\n",
      "         </a>\n",
      "         ,\n",
      "         <a href=\"MailRobot/Overview.html\" name=\"53\">\n",
      "          Mail robot\n",
      "         </a>\n",
      "         ,\n",
      "         <a href=\"Status.html#57\" name=\"52\">\n",
      "          Library\n",
      "         </a>\n",
      "         )\n",
      "         <dt>\n",
      "          <a href=\"Technical.html\" name=\"47\">\n",
      "           Technical\n",
      "          </a>\n",
      "          <dd>\n",
      "           Details of protocols, formats,\n",
      "program internals etc\n",
      "           <dt>\n",
      "            <a href=\"Bibliography.html\" name=\"40\">\n",
      "             Bibliography\n",
      "            </a>\n",
      "            <dd>\n",
      "             Paper documentation\n",
      "on  W3 and references.\n",
      "             <dt>\n",
      "              <a href=\"People.html\" name=\"14\">\n",
      "               People\n",
      "              </a>\n",
      "              <dd>\n",
      "               A list of some people involved\n",
      "in the project.\n",
      "               <dt>\n",
      "                <a href=\"History.html\" name=\"15\">\n",
      "                 History\n",
      "                </a>\n",
      "                <dd>\n",
      "                 A summary of the history\n",
      "of the project.\n",
      "                 <dt>\n",
      "                  <a href=\"Helping.html\" name=\"37\">\n",
      "                   How can I help\n",
      "                  </a>\n",
      "                  ?\n",
      "                  <dd>\n",
      "                   If you would like\n",
      "to support the web..\n",
      "                   <dt>\n",
      "                    <a href=\"../README.html\" name=\"48\">\n",
      "                     Getting code\n",
      "                    </a>\n",
      "                    <dd>\n",
      "                     Getting the code by\n",
      "                     <a href=\"LineMode/Defaults/Distribution.html\" name=\"49\">\n",
      "                      anonymous FTP\n",
      "                     </a>\n",
      "                     , etc.\n",
      "                    </dd>\n",
      "                   </dt>\n",
      "                  </dd>\n",
      "                 </dt>\n",
      "                </dd>\n",
      "               </dt>\n",
      "              </dd>\n",
      "             </dt>\n",
      "            </dd>\n",
      "           </dt>\n",
      "          </dd>\n",
      "         </dt>\n",
      "        </dd>\n",
      "       </dt>\n",
      "      </dd>\n",
      "     </dt>\n",
      "    </dd>\n",
      "   </dt>\n",
      "  </dl>\n",
      " </p>\n",
      "</body>\n",
      "\n"
     ]
    }
   ],
   "source": [
    "data = BeautifulSoup(data,'html.parser')\n",
    "print(data.prettify())"
   ]
  },
  {
   "cell_type": "code",
   "execution_count": 128,
   "id": "42c15df4",
   "metadata": {},
   "outputs": [
    {
     "data": {
      "text/plain": [
       "'World Wide Web'"
      ]
     },
     "execution_count": 128,
     "metadata": {},
     "output_type": "execute_result"
    }
   ],
   "source": [
    "data.h1.string.strip()"
   ]
  },
  {
   "cell_type": "code",
   "execution_count": 130,
   "id": "5dae7200",
   "metadata": {},
   "outputs": [
    {
     "data": {
      "text/plain": [
       "<title>\n",
       "  The World Wide Web project\n",
       " </title>"
      ]
     },
     "execution_count": 130,
     "metadata": {},
     "output_type": "execute_result"
    }
   ],
   "source": [
    "data.title"
   ]
  },
  {
   "cell_type": "code",
   "execution_count": 131,
   "id": "baaf6ac2",
   "metadata": {},
   "outputs": [
    {
     "data": {
      "text/plain": [
       "'title'"
      ]
     },
     "execution_count": 131,
     "metadata": {},
     "output_type": "execute_result"
    }
   ],
   "source": [
    "data.title.name"
   ]
  },
  {
   "cell_type": "code",
   "execution_count": 132,
   "id": "c25630db",
   "metadata": {},
   "outputs": [
    {
     "data": {
      "text/plain": [
       "'\\n  The World Wide Web project\\n '"
      ]
     },
     "execution_count": 132,
     "metadata": {},
     "output_type": "execute_result"
    }
   ],
   "source": [
    "data.title.string"
   ]
  },
  {
   "cell_type": "code",
   "execution_count": 133,
   "id": "d1a725d2",
   "metadata": {},
   "outputs": [
    {
     "data": {
      "text/plain": [
       "\"\\n\\n  The World Wide Web project\\n \\n\\n\\n\\n\\n  World Wide Web\\n \\n The WorldWideWeb (W3) is a wide-area\\n \\n  hypermedia\\n \\n information retrieval\\ninitiative aiming to give universal\\naccess to a large universe of documents.\\n \\n  Everything there is online about\\nW3 is linked directly or indirectly\\nto this document, including an\\n  \\n   executive\\nsummary\\n  \\n  of the project,\\n  \\n   Mailing lists\\n  \\n  ,\\n  \\n   Policy\\n  \\n  , November's\\n  \\n   W3  news\\n  \\n  ,\\n  \\n   Frequently Asked Questions\\n  \\n  .\\n  \\n\\n\\n     What's out there?\\n    \\n\\n     Pointers to the\\nworld's online information,\\n     \\n      subjects\\n     \\n     ,\\n     \\n      W3 servers\\n     \\n     , etc.\\n     \\n\\n       Help\\n      \\n\\n       on the browser you are using\\n       \\n\\n         Software Products\\n        \\n\\n         A list of W3 project\\ncomponents and their current state.\\n(e.g.\\n         \\n          Line Mode\\n         \\n         ,X11\\n         \\n          Viola\\n         \\n         ,\\n         \\n          NeXTStep\\n         \\n         ,\\n         \\n          Servers\\n         \\n         ,\\n         \\n          Tools\\n         \\n         ,\\n         \\n          Mail robot\\n         \\n         ,\\n         \\n          Library\\n         \\n         )\\n         \\n\\n           Technical\\n          \\n\\n           Details of protocols, formats,\\nprogram internals etc\\n           \\n\\n             Bibliography\\n            \\n\\n             Paper documentation\\non  W3 and references.\\n             \\n\\n               People\\n              \\n\\n               A list of some people involved\\nin the project.\\n               \\n\\n                 History\\n                \\n\\n                 A summary of the history\\nof the project.\\n                 \\n\\n                   How can I help\\n                  \\n                  ?\\n                  \\n                   If you would like\\nto support the web..\\n                   \\n\\n                     Getting code\\n                    \\n\\n                     Getting the code by\\n                     \\n                      anonymous FTP\\n                     \\n                     , etc.\\n                    \\n\\n\\n\\n\\n\\n\\n\\n\\n\\n\\n\\n\\n\\n\\n\\n\\n\\n\\n\\n\\n\""
      ]
     },
     "execution_count": 133,
     "metadata": {},
     "output_type": "execute_result"
    }
   ],
   "source": [
    "data.get_text()"
   ]
  },
  {
   "cell_type": "code",
   "execution_count": 134,
   "id": "c2a20c47",
   "metadata": {},
   "outputs": [
    {
     "data": {
      "text/plain": [
       "[<header>\n",
       " <title>\n",
       "   The World Wide Web project\n",
       "  </title>\n",
       " <nextid n=\"55\"/>\n",
       " </header>,\n",
       " <title>\n",
       "   The World Wide Web project\n",
       "  </title>,\n",
       " <nextid n=\"55\"/>,\n",
       " <body>\n",
       " <h1>\n",
       "   World Wide Web\n",
       "  </h1>\n",
       "  The WorldWideWeb (W3) is a wide-area\n",
       "  <a href=\"WhatIs.html\" name=\"0\">\n",
       "   hypermedia\n",
       "  </a>\n",
       "  information retrieval\n",
       " initiative aiming to give universal\n",
       " access to a large universe of documents.\n",
       "  <p>\n",
       "   Everything there is online about\n",
       " W3 is linked directly or indirectly\n",
       " to this document, including an\n",
       "   <a href=\"Summary.html\" name=\"24\">\n",
       "    executive\n",
       " summary\n",
       "   </a>\n",
       "   of the project,\n",
       "   <a href=\"Administration/Mailing/Overview.html\" name=\"29\">\n",
       "    Mailing lists\n",
       "   </a>\n",
       "   ,\n",
       "   <a href=\"Policy.html\" name=\"30\">\n",
       "    Policy\n",
       "   </a>\n",
       "   , November's\n",
       "   <a href=\"News/9211.html\" name=\"34\">\n",
       "    W3  news\n",
       "   </a>\n",
       "   ,\n",
       "   <a href=\"FAQ/List.html\" name=\"41\">\n",
       "    Frequently Asked Questions\n",
       "   </a>\n",
       "   .\n",
       "   <dl>\n",
       " <dt>\n",
       " <a href=\"../DataSources/Top.html\" name=\"44\">\n",
       "      What's out there?\n",
       "     </a>\n",
       " <dd>\n",
       "      Pointers to the\n",
       " world's online information,\n",
       "      <a href=\"../DataSources/bySubject/Overview.html\" name=\"45\">\n",
       "       subjects\n",
       "      </a>\n",
       "      ,\n",
       "      <a href=\"../DataSources/WWW/Servers.html\" name=\"z54\">\n",
       "       W3 servers\n",
       "      </a>\n",
       "      , etc.\n",
       "      <dt>\n",
       " <a href=\"Help.html\" name=\"46\">\n",
       "        Help\n",
       "       </a>\n",
       " <dd>\n",
       "        on the browser you are using\n",
       "        <dt>\n",
       " <a href=\"Status.html\" name=\"13\">\n",
       "          Software Products\n",
       "         </a>\n",
       " <dd>\n",
       "          A list of W3 project\n",
       " components and their current state.\n",
       " (e.g.\n",
       "          <a href=\"LineMode/Browser.html\" name=\"27\">\n",
       "           Line Mode\n",
       "          </a>\n",
       "          ,X11\n",
       "          <a href=\"Status.html#35\" name=\"35\">\n",
       "           Viola\n",
       "          </a>\n",
       "          ,\n",
       "          <a href=\"NeXT/WorldWideWeb.html\" name=\"26\">\n",
       "           NeXTStep\n",
       "          </a>\n",
       "          ,\n",
       "          <a href=\"Daemon/Overview.html\" name=\"25\">\n",
       "           Servers\n",
       "          </a>\n",
       "          ,\n",
       "          <a href=\"Tools/Overview.html\" name=\"51\">\n",
       "           Tools\n",
       "          </a>\n",
       "          ,\n",
       "          <a href=\"MailRobot/Overview.html\" name=\"53\">\n",
       "           Mail robot\n",
       "          </a>\n",
       "          ,\n",
       "          <a href=\"Status.html#57\" name=\"52\">\n",
       "           Library\n",
       "          </a>\n",
       "          )\n",
       "          <dt>\n",
       " <a href=\"Technical.html\" name=\"47\">\n",
       "            Technical\n",
       "           </a>\n",
       " <dd>\n",
       "            Details of protocols, formats,\n",
       " program internals etc\n",
       "            <dt>\n",
       " <a href=\"Bibliography.html\" name=\"40\">\n",
       "              Bibliography\n",
       "             </a>\n",
       " <dd>\n",
       "              Paper documentation\n",
       " on  W3 and references.\n",
       "              <dt>\n",
       " <a href=\"People.html\" name=\"14\">\n",
       "                People\n",
       "               </a>\n",
       " <dd>\n",
       "                A list of some people involved\n",
       " in the project.\n",
       "                <dt>\n",
       " <a href=\"History.html\" name=\"15\">\n",
       "                  History\n",
       "                 </a>\n",
       " <dd>\n",
       "                  A summary of the history\n",
       " of the project.\n",
       "                  <dt>\n",
       " <a href=\"Helping.html\" name=\"37\">\n",
       "                    How can I help\n",
       "                   </a>\n",
       "                   ?\n",
       "                   <dd>\n",
       "                    If you would like\n",
       " to support the web..\n",
       "                    <dt>\n",
       " <a href=\"../README.html\" name=\"48\">\n",
       "                      Getting code\n",
       "                     </a>\n",
       " <dd>\n",
       "                      Getting the code by\n",
       "                      <a href=\"LineMode/Defaults/Distribution.html\" name=\"49\">\n",
       "                       anonymous FTP\n",
       "                      </a>\n",
       "                      , etc.\n",
       "                     </dd>\n",
       " </dt>\n",
       " </dd>\n",
       " </dt>\n",
       " </dd>\n",
       " </dt>\n",
       " </dd>\n",
       " </dt>\n",
       " </dd>\n",
       " </dt>\n",
       " </dd>\n",
       " </dt>\n",
       " </dd>\n",
       " </dt>\n",
       " </dd>\n",
       " </dt>\n",
       " </dd>\n",
       " </dt>\n",
       " </dl>\n",
       " </p>\n",
       " </body>,\n",
       " <h1>\n",
       "   World Wide Web\n",
       "  </h1>,\n",
       " <a href=\"WhatIs.html\" name=\"0\">\n",
       "   hypermedia\n",
       "  </a>,\n",
       " <p>\n",
       "   Everything there is online about\n",
       " W3 is linked directly or indirectly\n",
       " to this document, including an\n",
       "   <a href=\"Summary.html\" name=\"24\">\n",
       "    executive\n",
       " summary\n",
       "   </a>\n",
       "   of the project,\n",
       "   <a href=\"Administration/Mailing/Overview.html\" name=\"29\">\n",
       "    Mailing lists\n",
       "   </a>\n",
       "   ,\n",
       "   <a href=\"Policy.html\" name=\"30\">\n",
       "    Policy\n",
       "   </a>\n",
       "   , November's\n",
       "   <a href=\"News/9211.html\" name=\"34\">\n",
       "    W3  news\n",
       "   </a>\n",
       "   ,\n",
       "   <a href=\"FAQ/List.html\" name=\"41\">\n",
       "    Frequently Asked Questions\n",
       "   </a>\n",
       "   .\n",
       "   <dl>\n",
       " <dt>\n",
       " <a href=\"../DataSources/Top.html\" name=\"44\">\n",
       "      What's out there?\n",
       "     </a>\n",
       " <dd>\n",
       "      Pointers to the\n",
       " world's online information,\n",
       "      <a href=\"../DataSources/bySubject/Overview.html\" name=\"45\">\n",
       "       subjects\n",
       "      </a>\n",
       "      ,\n",
       "      <a href=\"../DataSources/WWW/Servers.html\" name=\"z54\">\n",
       "       W3 servers\n",
       "      </a>\n",
       "      , etc.\n",
       "      <dt>\n",
       " <a href=\"Help.html\" name=\"46\">\n",
       "        Help\n",
       "       </a>\n",
       " <dd>\n",
       "        on the browser you are using\n",
       "        <dt>\n",
       " <a href=\"Status.html\" name=\"13\">\n",
       "          Software Products\n",
       "         </a>\n",
       " <dd>\n",
       "          A list of W3 project\n",
       " components and their current state.\n",
       " (e.g.\n",
       "          <a href=\"LineMode/Browser.html\" name=\"27\">\n",
       "           Line Mode\n",
       "          </a>\n",
       "          ,X11\n",
       "          <a href=\"Status.html#35\" name=\"35\">\n",
       "           Viola\n",
       "          </a>\n",
       "          ,\n",
       "          <a href=\"NeXT/WorldWideWeb.html\" name=\"26\">\n",
       "           NeXTStep\n",
       "          </a>\n",
       "          ,\n",
       "          <a href=\"Daemon/Overview.html\" name=\"25\">\n",
       "           Servers\n",
       "          </a>\n",
       "          ,\n",
       "          <a href=\"Tools/Overview.html\" name=\"51\">\n",
       "           Tools\n",
       "          </a>\n",
       "          ,\n",
       "          <a href=\"MailRobot/Overview.html\" name=\"53\">\n",
       "           Mail robot\n",
       "          </a>\n",
       "          ,\n",
       "          <a href=\"Status.html#57\" name=\"52\">\n",
       "           Library\n",
       "          </a>\n",
       "          )\n",
       "          <dt>\n",
       " <a href=\"Technical.html\" name=\"47\">\n",
       "            Technical\n",
       "           </a>\n",
       " <dd>\n",
       "            Details of protocols, formats,\n",
       " program internals etc\n",
       "            <dt>\n",
       " <a href=\"Bibliography.html\" name=\"40\">\n",
       "              Bibliography\n",
       "             </a>\n",
       " <dd>\n",
       "              Paper documentation\n",
       " on  W3 and references.\n",
       "              <dt>\n",
       " <a href=\"People.html\" name=\"14\">\n",
       "                People\n",
       "               </a>\n",
       " <dd>\n",
       "                A list of some people involved\n",
       " in the project.\n",
       "                <dt>\n",
       " <a href=\"History.html\" name=\"15\">\n",
       "                  History\n",
       "                 </a>\n",
       " <dd>\n",
       "                  A summary of the history\n",
       " of the project.\n",
       "                  <dt>\n",
       " <a href=\"Helping.html\" name=\"37\">\n",
       "                    How can I help\n",
       "                   </a>\n",
       "                   ?\n",
       "                   <dd>\n",
       "                    If you would like\n",
       " to support the web..\n",
       "                    <dt>\n",
       " <a href=\"../README.html\" name=\"48\">\n",
       "                      Getting code\n",
       "                     </a>\n",
       " <dd>\n",
       "                      Getting the code by\n",
       "                      <a href=\"LineMode/Defaults/Distribution.html\" name=\"49\">\n",
       "                       anonymous FTP\n",
       "                      </a>\n",
       "                      , etc.\n",
       "                     </dd>\n",
       " </dt>\n",
       " </dd>\n",
       " </dt>\n",
       " </dd>\n",
       " </dt>\n",
       " </dd>\n",
       " </dt>\n",
       " </dd>\n",
       " </dt>\n",
       " </dd>\n",
       " </dt>\n",
       " </dd>\n",
       " </dt>\n",
       " </dd>\n",
       " </dt>\n",
       " </dd>\n",
       " </dt>\n",
       " </dl>\n",
       " </p>,\n",
       " <a href=\"Summary.html\" name=\"24\">\n",
       "    executive\n",
       " summary\n",
       "   </a>,\n",
       " <a href=\"Administration/Mailing/Overview.html\" name=\"29\">\n",
       "    Mailing lists\n",
       "   </a>,\n",
       " <a href=\"Policy.html\" name=\"30\">\n",
       "    Policy\n",
       "   </a>,\n",
       " <a href=\"News/9211.html\" name=\"34\">\n",
       "    W3  news\n",
       "   </a>,\n",
       " <a href=\"FAQ/List.html\" name=\"41\">\n",
       "    Frequently Asked Questions\n",
       "   </a>,\n",
       " <dl>\n",
       " <dt>\n",
       " <a href=\"../DataSources/Top.html\" name=\"44\">\n",
       "      What's out there?\n",
       "     </a>\n",
       " <dd>\n",
       "      Pointers to the\n",
       " world's online information,\n",
       "      <a href=\"../DataSources/bySubject/Overview.html\" name=\"45\">\n",
       "       subjects\n",
       "      </a>\n",
       "      ,\n",
       "      <a href=\"../DataSources/WWW/Servers.html\" name=\"z54\">\n",
       "       W3 servers\n",
       "      </a>\n",
       "      , etc.\n",
       "      <dt>\n",
       " <a href=\"Help.html\" name=\"46\">\n",
       "        Help\n",
       "       </a>\n",
       " <dd>\n",
       "        on the browser you are using\n",
       "        <dt>\n",
       " <a href=\"Status.html\" name=\"13\">\n",
       "          Software Products\n",
       "         </a>\n",
       " <dd>\n",
       "          A list of W3 project\n",
       " components and their current state.\n",
       " (e.g.\n",
       "          <a href=\"LineMode/Browser.html\" name=\"27\">\n",
       "           Line Mode\n",
       "          </a>\n",
       "          ,X11\n",
       "          <a href=\"Status.html#35\" name=\"35\">\n",
       "           Viola\n",
       "          </a>\n",
       "          ,\n",
       "          <a href=\"NeXT/WorldWideWeb.html\" name=\"26\">\n",
       "           NeXTStep\n",
       "          </a>\n",
       "          ,\n",
       "          <a href=\"Daemon/Overview.html\" name=\"25\">\n",
       "           Servers\n",
       "          </a>\n",
       "          ,\n",
       "          <a href=\"Tools/Overview.html\" name=\"51\">\n",
       "           Tools\n",
       "          </a>\n",
       "          ,\n",
       "          <a href=\"MailRobot/Overview.html\" name=\"53\">\n",
       "           Mail robot\n",
       "          </a>\n",
       "          ,\n",
       "          <a href=\"Status.html#57\" name=\"52\">\n",
       "           Library\n",
       "          </a>\n",
       "          )\n",
       "          <dt>\n",
       " <a href=\"Technical.html\" name=\"47\">\n",
       "            Technical\n",
       "           </a>\n",
       " <dd>\n",
       "            Details of protocols, formats,\n",
       " program internals etc\n",
       "            <dt>\n",
       " <a href=\"Bibliography.html\" name=\"40\">\n",
       "              Bibliography\n",
       "             </a>\n",
       " <dd>\n",
       "              Paper documentation\n",
       " on  W3 and references.\n",
       "              <dt>\n",
       " <a href=\"People.html\" name=\"14\">\n",
       "                People\n",
       "               </a>\n",
       " <dd>\n",
       "                A list of some people involved\n",
       " in the project.\n",
       "                <dt>\n",
       " <a href=\"History.html\" name=\"15\">\n",
       "                  History\n",
       "                 </a>\n",
       " <dd>\n",
       "                  A summary of the history\n",
       " of the project.\n",
       "                  <dt>\n",
       " <a href=\"Helping.html\" name=\"37\">\n",
       "                    How can I help\n",
       "                   </a>\n",
       "                   ?\n",
       "                   <dd>\n",
       "                    If you would like\n",
       " to support the web..\n",
       "                    <dt>\n",
       " <a href=\"../README.html\" name=\"48\">\n",
       "                      Getting code\n",
       "                     </a>\n",
       " <dd>\n",
       "                      Getting the code by\n",
       "                      <a href=\"LineMode/Defaults/Distribution.html\" name=\"49\">\n",
       "                       anonymous FTP\n",
       "                      </a>\n",
       "                      , etc.\n",
       "                     </dd>\n",
       " </dt>\n",
       " </dd>\n",
       " </dt>\n",
       " </dd>\n",
       " </dt>\n",
       " </dd>\n",
       " </dt>\n",
       " </dd>\n",
       " </dt>\n",
       " </dd>\n",
       " </dt>\n",
       " </dd>\n",
       " </dt>\n",
       " </dd>\n",
       " </dt>\n",
       " </dd>\n",
       " </dt>\n",
       " </dl>,\n",
       " <dt>\n",
       " <a href=\"../DataSources/Top.html\" name=\"44\">\n",
       "      What's out there?\n",
       "     </a>\n",
       " <dd>\n",
       "      Pointers to the\n",
       " world's online information,\n",
       "      <a href=\"../DataSources/bySubject/Overview.html\" name=\"45\">\n",
       "       subjects\n",
       "      </a>\n",
       "      ,\n",
       "      <a href=\"../DataSources/WWW/Servers.html\" name=\"z54\">\n",
       "       W3 servers\n",
       "      </a>\n",
       "      , etc.\n",
       "      <dt>\n",
       " <a href=\"Help.html\" name=\"46\">\n",
       "        Help\n",
       "       </a>\n",
       " <dd>\n",
       "        on the browser you are using\n",
       "        <dt>\n",
       " <a href=\"Status.html\" name=\"13\">\n",
       "          Software Products\n",
       "         </a>\n",
       " <dd>\n",
       "          A list of W3 project\n",
       " components and their current state.\n",
       " (e.g.\n",
       "          <a href=\"LineMode/Browser.html\" name=\"27\">\n",
       "           Line Mode\n",
       "          </a>\n",
       "          ,X11\n",
       "          <a href=\"Status.html#35\" name=\"35\">\n",
       "           Viola\n",
       "          </a>\n",
       "          ,\n",
       "          <a href=\"NeXT/WorldWideWeb.html\" name=\"26\">\n",
       "           NeXTStep\n",
       "          </a>\n",
       "          ,\n",
       "          <a href=\"Daemon/Overview.html\" name=\"25\">\n",
       "           Servers\n",
       "          </a>\n",
       "          ,\n",
       "          <a href=\"Tools/Overview.html\" name=\"51\">\n",
       "           Tools\n",
       "          </a>\n",
       "          ,\n",
       "          <a href=\"MailRobot/Overview.html\" name=\"53\">\n",
       "           Mail robot\n",
       "          </a>\n",
       "          ,\n",
       "          <a href=\"Status.html#57\" name=\"52\">\n",
       "           Library\n",
       "          </a>\n",
       "          )\n",
       "          <dt>\n",
       " <a href=\"Technical.html\" name=\"47\">\n",
       "            Technical\n",
       "           </a>\n",
       " <dd>\n",
       "            Details of protocols, formats,\n",
       " program internals etc\n",
       "            <dt>\n",
       " <a href=\"Bibliography.html\" name=\"40\">\n",
       "              Bibliography\n",
       "             </a>\n",
       " <dd>\n",
       "              Paper documentation\n",
       " on  W3 and references.\n",
       "              <dt>\n",
       " <a href=\"People.html\" name=\"14\">\n",
       "                People\n",
       "               </a>\n",
       " <dd>\n",
       "                A list of some people involved\n",
       " in the project.\n",
       "                <dt>\n",
       " <a href=\"History.html\" name=\"15\">\n",
       "                  History\n",
       "                 </a>\n",
       " <dd>\n",
       "                  A summary of the history\n",
       " of the project.\n",
       "                  <dt>\n",
       " <a href=\"Helping.html\" name=\"37\">\n",
       "                    How can I help\n",
       "                   </a>\n",
       "                   ?\n",
       "                   <dd>\n",
       "                    If you would like\n",
       " to support the web..\n",
       "                    <dt>\n",
       " <a href=\"../README.html\" name=\"48\">\n",
       "                      Getting code\n",
       "                     </a>\n",
       " <dd>\n",
       "                      Getting the code by\n",
       "                      <a href=\"LineMode/Defaults/Distribution.html\" name=\"49\">\n",
       "                       anonymous FTP\n",
       "                      </a>\n",
       "                      , etc.\n",
       "                     </dd>\n",
       " </dt>\n",
       " </dd>\n",
       " </dt>\n",
       " </dd>\n",
       " </dt>\n",
       " </dd>\n",
       " </dt>\n",
       " </dd>\n",
       " </dt>\n",
       " </dd>\n",
       " </dt>\n",
       " </dd>\n",
       " </dt>\n",
       " </dd>\n",
       " </dt>\n",
       " </dd>\n",
       " </dt>,\n",
       " <a href=\"../DataSources/Top.html\" name=\"44\">\n",
       "      What's out there?\n",
       "     </a>,\n",
       " <dd>\n",
       "      Pointers to the\n",
       " world's online information,\n",
       "      <a href=\"../DataSources/bySubject/Overview.html\" name=\"45\">\n",
       "       subjects\n",
       "      </a>\n",
       "      ,\n",
       "      <a href=\"../DataSources/WWW/Servers.html\" name=\"z54\">\n",
       "       W3 servers\n",
       "      </a>\n",
       "      , etc.\n",
       "      <dt>\n",
       " <a href=\"Help.html\" name=\"46\">\n",
       "        Help\n",
       "       </a>\n",
       " <dd>\n",
       "        on the browser you are using\n",
       "        <dt>\n",
       " <a href=\"Status.html\" name=\"13\">\n",
       "          Software Products\n",
       "         </a>\n",
       " <dd>\n",
       "          A list of W3 project\n",
       " components and their current state.\n",
       " (e.g.\n",
       "          <a href=\"LineMode/Browser.html\" name=\"27\">\n",
       "           Line Mode\n",
       "          </a>\n",
       "          ,X11\n",
       "          <a href=\"Status.html#35\" name=\"35\">\n",
       "           Viola\n",
       "          </a>\n",
       "          ,\n",
       "          <a href=\"NeXT/WorldWideWeb.html\" name=\"26\">\n",
       "           NeXTStep\n",
       "          </a>\n",
       "          ,\n",
       "          <a href=\"Daemon/Overview.html\" name=\"25\">\n",
       "           Servers\n",
       "          </a>\n",
       "          ,\n",
       "          <a href=\"Tools/Overview.html\" name=\"51\">\n",
       "           Tools\n",
       "          </a>\n",
       "          ,\n",
       "          <a href=\"MailRobot/Overview.html\" name=\"53\">\n",
       "           Mail robot\n",
       "          </a>\n",
       "          ,\n",
       "          <a href=\"Status.html#57\" name=\"52\">\n",
       "           Library\n",
       "          </a>\n",
       "          )\n",
       "          <dt>\n",
       " <a href=\"Technical.html\" name=\"47\">\n",
       "            Technical\n",
       "           </a>\n",
       " <dd>\n",
       "            Details of protocols, formats,\n",
       " program internals etc\n",
       "            <dt>\n",
       " <a href=\"Bibliography.html\" name=\"40\">\n",
       "              Bibliography\n",
       "             </a>\n",
       " <dd>\n",
       "              Paper documentation\n",
       " on  W3 and references.\n",
       "              <dt>\n",
       " <a href=\"People.html\" name=\"14\">\n",
       "                People\n",
       "               </a>\n",
       " <dd>\n",
       "                A list of some people involved\n",
       " in the project.\n",
       "                <dt>\n",
       " <a href=\"History.html\" name=\"15\">\n",
       "                  History\n",
       "                 </a>\n",
       " <dd>\n",
       "                  A summary of the history\n",
       " of the project.\n",
       "                  <dt>\n",
       " <a href=\"Helping.html\" name=\"37\">\n",
       "                    How can I help\n",
       "                   </a>\n",
       "                   ?\n",
       "                   <dd>\n",
       "                    If you would like\n",
       " to support the web..\n",
       "                    <dt>\n",
       " <a href=\"../README.html\" name=\"48\">\n",
       "                      Getting code\n",
       "                     </a>\n",
       " <dd>\n",
       "                      Getting the code by\n",
       "                      <a href=\"LineMode/Defaults/Distribution.html\" name=\"49\">\n",
       "                       anonymous FTP\n",
       "                      </a>\n",
       "                      , etc.\n",
       "                     </dd>\n",
       " </dt>\n",
       " </dd>\n",
       " </dt>\n",
       " </dd>\n",
       " </dt>\n",
       " </dd>\n",
       " </dt>\n",
       " </dd>\n",
       " </dt>\n",
       " </dd>\n",
       " </dt>\n",
       " </dd>\n",
       " </dt>\n",
       " </dd>\n",
       " </dt>\n",
       " </dd>,\n",
       " <a href=\"../DataSources/bySubject/Overview.html\" name=\"45\">\n",
       "       subjects\n",
       "      </a>,\n",
       " <a href=\"../DataSources/WWW/Servers.html\" name=\"z54\">\n",
       "       W3 servers\n",
       "      </a>,\n",
       " <dt>\n",
       " <a href=\"Help.html\" name=\"46\">\n",
       "        Help\n",
       "       </a>\n",
       " <dd>\n",
       "        on the browser you are using\n",
       "        <dt>\n",
       " <a href=\"Status.html\" name=\"13\">\n",
       "          Software Products\n",
       "         </a>\n",
       " <dd>\n",
       "          A list of W3 project\n",
       " components and their current state.\n",
       " (e.g.\n",
       "          <a href=\"LineMode/Browser.html\" name=\"27\">\n",
       "           Line Mode\n",
       "          </a>\n",
       "          ,X11\n",
       "          <a href=\"Status.html#35\" name=\"35\">\n",
       "           Viola\n",
       "          </a>\n",
       "          ,\n",
       "          <a href=\"NeXT/WorldWideWeb.html\" name=\"26\">\n",
       "           NeXTStep\n",
       "          </a>\n",
       "          ,\n",
       "          <a href=\"Daemon/Overview.html\" name=\"25\">\n",
       "           Servers\n",
       "          </a>\n",
       "          ,\n",
       "          <a href=\"Tools/Overview.html\" name=\"51\">\n",
       "           Tools\n",
       "          </a>\n",
       "          ,\n",
       "          <a href=\"MailRobot/Overview.html\" name=\"53\">\n",
       "           Mail robot\n",
       "          </a>\n",
       "          ,\n",
       "          <a href=\"Status.html#57\" name=\"52\">\n",
       "           Library\n",
       "          </a>\n",
       "          )\n",
       "          <dt>\n",
       " <a href=\"Technical.html\" name=\"47\">\n",
       "            Technical\n",
       "           </a>\n",
       " <dd>\n",
       "            Details of protocols, formats,\n",
       " program internals etc\n",
       "            <dt>\n",
       " <a href=\"Bibliography.html\" name=\"40\">\n",
       "              Bibliography\n",
       "             </a>\n",
       " <dd>\n",
       "              Paper documentation\n",
       " on  W3 and references.\n",
       "              <dt>\n",
       " <a href=\"People.html\" name=\"14\">\n",
       "                People\n",
       "               </a>\n",
       " <dd>\n",
       "                A list of some people involved\n",
       " in the project.\n",
       "                <dt>\n",
       " <a href=\"History.html\" name=\"15\">\n",
       "                  History\n",
       "                 </a>\n",
       " <dd>\n",
       "                  A summary of the history\n",
       " of the project.\n",
       "                  <dt>\n",
       " <a href=\"Helping.html\" name=\"37\">\n",
       "                    How can I help\n",
       "                   </a>\n",
       "                   ?\n",
       "                   <dd>\n",
       "                    If you would like\n",
       " to support the web..\n",
       "                    <dt>\n",
       " <a href=\"../README.html\" name=\"48\">\n",
       "                      Getting code\n",
       "                     </a>\n",
       " <dd>\n",
       "                      Getting the code by\n",
       "                      <a href=\"LineMode/Defaults/Distribution.html\" name=\"49\">\n",
       "                       anonymous FTP\n",
       "                      </a>\n",
       "                      , etc.\n",
       "                     </dd>\n",
       " </dt>\n",
       " </dd>\n",
       " </dt>\n",
       " </dd>\n",
       " </dt>\n",
       " </dd>\n",
       " </dt>\n",
       " </dd>\n",
       " </dt>\n",
       " </dd>\n",
       " </dt>\n",
       " </dd>\n",
       " </dt>\n",
       " </dd>\n",
       " </dt>,\n",
       " <a href=\"Help.html\" name=\"46\">\n",
       "        Help\n",
       "       </a>,\n",
       " <dd>\n",
       "        on the browser you are using\n",
       "        <dt>\n",
       " <a href=\"Status.html\" name=\"13\">\n",
       "          Software Products\n",
       "         </a>\n",
       " <dd>\n",
       "          A list of W3 project\n",
       " components and their current state.\n",
       " (e.g.\n",
       "          <a href=\"LineMode/Browser.html\" name=\"27\">\n",
       "           Line Mode\n",
       "          </a>\n",
       "          ,X11\n",
       "          <a href=\"Status.html#35\" name=\"35\">\n",
       "           Viola\n",
       "          </a>\n",
       "          ,\n",
       "          <a href=\"NeXT/WorldWideWeb.html\" name=\"26\">\n",
       "           NeXTStep\n",
       "          </a>\n",
       "          ,\n",
       "          <a href=\"Daemon/Overview.html\" name=\"25\">\n",
       "           Servers\n",
       "          </a>\n",
       "          ,\n",
       "          <a href=\"Tools/Overview.html\" name=\"51\">\n",
       "           Tools\n",
       "          </a>\n",
       "          ,\n",
       "          <a href=\"MailRobot/Overview.html\" name=\"53\">\n",
       "           Mail robot\n",
       "          </a>\n",
       "          ,\n",
       "          <a href=\"Status.html#57\" name=\"52\">\n",
       "           Library\n",
       "          </a>\n",
       "          )\n",
       "          <dt>\n",
       " <a href=\"Technical.html\" name=\"47\">\n",
       "            Technical\n",
       "           </a>\n",
       " <dd>\n",
       "            Details of protocols, formats,\n",
       " program internals etc\n",
       "            <dt>\n",
       " <a href=\"Bibliography.html\" name=\"40\">\n",
       "              Bibliography\n",
       "             </a>\n",
       " <dd>\n",
       "              Paper documentation\n",
       " on  W3 and references.\n",
       "              <dt>\n",
       " <a href=\"People.html\" name=\"14\">\n",
       "                People\n",
       "               </a>\n",
       " <dd>\n",
       "                A list of some people involved\n",
       " in the project.\n",
       "                <dt>\n",
       " <a href=\"History.html\" name=\"15\">\n",
       "                  History\n",
       "                 </a>\n",
       " <dd>\n",
       "                  A summary of the history\n",
       " of the project.\n",
       "                  <dt>\n",
       " <a href=\"Helping.html\" name=\"37\">\n",
       "                    How can I help\n",
       "                   </a>\n",
       "                   ?\n",
       "                   <dd>\n",
       "                    If you would like\n",
       " to support the web..\n",
       "                    <dt>\n",
       " <a href=\"../README.html\" name=\"48\">\n",
       "                      Getting code\n",
       "                     </a>\n",
       " <dd>\n",
       "                      Getting the code by\n",
       "                      <a href=\"LineMode/Defaults/Distribution.html\" name=\"49\">\n",
       "                       anonymous FTP\n",
       "                      </a>\n",
       "                      , etc.\n",
       "                     </dd>\n",
       " </dt>\n",
       " </dd>\n",
       " </dt>\n",
       " </dd>\n",
       " </dt>\n",
       " </dd>\n",
       " </dt>\n",
       " </dd>\n",
       " </dt>\n",
       " </dd>\n",
       " </dt>\n",
       " </dd>\n",
       " </dt>\n",
       " </dd>,\n",
       " <dt>\n",
       " <a href=\"Status.html\" name=\"13\">\n",
       "          Software Products\n",
       "         </a>\n",
       " <dd>\n",
       "          A list of W3 project\n",
       " components and their current state.\n",
       " (e.g.\n",
       "          <a href=\"LineMode/Browser.html\" name=\"27\">\n",
       "           Line Mode\n",
       "          </a>\n",
       "          ,X11\n",
       "          <a href=\"Status.html#35\" name=\"35\">\n",
       "           Viola\n",
       "          </a>\n",
       "          ,\n",
       "          <a href=\"NeXT/WorldWideWeb.html\" name=\"26\">\n",
       "           NeXTStep\n",
       "          </a>\n",
       "          ,\n",
       "          <a href=\"Daemon/Overview.html\" name=\"25\">\n",
       "           Servers\n",
       "          </a>\n",
       "          ,\n",
       "          <a href=\"Tools/Overview.html\" name=\"51\">\n",
       "           Tools\n",
       "          </a>\n",
       "          ,\n",
       "          <a href=\"MailRobot/Overview.html\" name=\"53\">\n",
       "           Mail robot\n",
       "          </a>\n",
       "          ,\n",
       "          <a href=\"Status.html#57\" name=\"52\">\n",
       "           Library\n",
       "          </a>\n",
       "          )\n",
       "          <dt>\n",
       " <a href=\"Technical.html\" name=\"47\">\n",
       "            Technical\n",
       "           </a>\n",
       " <dd>\n",
       "            Details of protocols, formats,\n",
       " program internals etc\n",
       "            <dt>\n",
       " <a href=\"Bibliography.html\" name=\"40\">\n",
       "              Bibliography\n",
       "             </a>\n",
       " <dd>\n",
       "              Paper documentation\n",
       " on  W3 and references.\n",
       "              <dt>\n",
       " <a href=\"People.html\" name=\"14\">\n",
       "                People\n",
       "               </a>\n",
       " <dd>\n",
       "                A list of some people involved\n",
       " in the project.\n",
       "                <dt>\n",
       " <a href=\"History.html\" name=\"15\">\n",
       "                  History\n",
       "                 </a>\n",
       " <dd>\n",
       "                  A summary of the history\n",
       " of the project.\n",
       "                  <dt>\n",
       " <a href=\"Helping.html\" name=\"37\">\n",
       "                    How can I help\n",
       "                   </a>\n",
       "                   ?\n",
       "                   <dd>\n",
       "                    If you would like\n",
       " to support the web..\n",
       "                    <dt>\n",
       " <a href=\"../README.html\" name=\"48\">\n",
       "                      Getting code\n",
       "                     </a>\n",
       " <dd>\n",
       "                      Getting the code by\n",
       "                      <a href=\"LineMode/Defaults/Distribution.html\" name=\"49\">\n",
       "                       anonymous FTP\n",
       "                      </a>\n",
       "                      , etc.\n",
       "                     </dd>\n",
       " </dt>\n",
       " </dd>\n",
       " </dt>\n",
       " </dd>\n",
       " </dt>\n",
       " </dd>\n",
       " </dt>\n",
       " </dd>\n",
       " </dt>\n",
       " </dd>\n",
       " </dt>\n",
       " </dd>\n",
       " </dt>,\n",
       " <a href=\"Status.html\" name=\"13\">\n",
       "          Software Products\n",
       "         </a>,\n",
       " <dd>\n",
       "          A list of W3 project\n",
       " components and their current state.\n",
       " (e.g.\n",
       "          <a href=\"LineMode/Browser.html\" name=\"27\">\n",
       "           Line Mode\n",
       "          </a>\n",
       "          ,X11\n",
       "          <a href=\"Status.html#35\" name=\"35\">\n",
       "           Viola\n",
       "          </a>\n",
       "          ,\n",
       "          <a href=\"NeXT/WorldWideWeb.html\" name=\"26\">\n",
       "           NeXTStep\n",
       "          </a>\n",
       "          ,\n",
       "          <a href=\"Daemon/Overview.html\" name=\"25\">\n",
       "           Servers\n",
       "          </a>\n",
       "          ,\n",
       "          <a href=\"Tools/Overview.html\" name=\"51\">\n",
       "           Tools\n",
       "          </a>\n",
       "          ,\n",
       "          <a href=\"MailRobot/Overview.html\" name=\"53\">\n",
       "           Mail robot\n",
       "          </a>\n",
       "          ,\n",
       "          <a href=\"Status.html#57\" name=\"52\">\n",
       "           Library\n",
       "          </a>\n",
       "          )\n",
       "          <dt>\n",
       " <a href=\"Technical.html\" name=\"47\">\n",
       "            Technical\n",
       "           </a>\n",
       " <dd>\n",
       "            Details of protocols, formats,\n",
       " program internals etc\n",
       "            <dt>\n",
       " <a href=\"Bibliography.html\" name=\"40\">\n",
       "              Bibliography\n",
       "             </a>\n",
       " <dd>\n",
       "              Paper documentation\n",
       " on  W3 and references.\n",
       "              <dt>\n",
       " <a href=\"People.html\" name=\"14\">\n",
       "                People\n",
       "               </a>\n",
       " <dd>\n",
       "                A list of some people involved\n",
       " in the project.\n",
       "                <dt>\n",
       " <a href=\"History.html\" name=\"15\">\n",
       "                  History\n",
       "                 </a>\n",
       " <dd>\n",
       "                  A summary of the history\n",
       " of the project.\n",
       "                  <dt>\n",
       " <a href=\"Helping.html\" name=\"37\">\n",
       "                    How can I help\n",
       "                   </a>\n",
       "                   ?\n",
       "                   <dd>\n",
       "                    If you would like\n",
       " to support the web..\n",
       "                    <dt>\n",
       " <a href=\"../README.html\" name=\"48\">\n",
       "                      Getting code\n",
       "                     </a>\n",
       " <dd>\n",
       "                      Getting the code by\n",
       "                      <a href=\"LineMode/Defaults/Distribution.html\" name=\"49\">\n",
       "                       anonymous FTP\n",
       "                      </a>\n",
       "                      , etc.\n",
       "                     </dd>\n",
       " </dt>\n",
       " </dd>\n",
       " </dt>\n",
       " </dd>\n",
       " </dt>\n",
       " </dd>\n",
       " </dt>\n",
       " </dd>\n",
       " </dt>\n",
       " </dd>\n",
       " </dt>\n",
       " </dd>,\n",
       " <a href=\"LineMode/Browser.html\" name=\"27\">\n",
       "           Line Mode\n",
       "          </a>,\n",
       " <a href=\"Status.html#35\" name=\"35\">\n",
       "           Viola\n",
       "          </a>,\n",
       " <a href=\"NeXT/WorldWideWeb.html\" name=\"26\">\n",
       "           NeXTStep\n",
       "          </a>,\n",
       " <a href=\"Daemon/Overview.html\" name=\"25\">\n",
       "           Servers\n",
       "          </a>,\n",
       " <a href=\"Tools/Overview.html\" name=\"51\">\n",
       "           Tools\n",
       "          </a>,\n",
       " <a href=\"MailRobot/Overview.html\" name=\"53\">\n",
       "           Mail robot\n",
       "          </a>,\n",
       " <a href=\"Status.html#57\" name=\"52\">\n",
       "           Library\n",
       "          </a>,\n",
       " <dt>\n",
       " <a href=\"Technical.html\" name=\"47\">\n",
       "            Technical\n",
       "           </a>\n",
       " <dd>\n",
       "            Details of protocols, formats,\n",
       " program internals etc\n",
       "            <dt>\n",
       " <a href=\"Bibliography.html\" name=\"40\">\n",
       "              Bibliography\n",
       "             </a>\n",
       " <dd>\n",
       "              Paper documentation\n",
       " on  W3 and references.\n",
       "              <dt>\n",
       " <a href=\"People.html\" name=\"14\">\n",
       "                People\n",
       "               </a>\n",
       " <dd>\n",
       "                A list of some people involved\n",
       " in the project.\n",
       "                <dt>\n",
       " <a href=\"History.html\" name=\"15\">\n",
       "                  History\n",
       "                 </a>\n",
       " <dd>\n",
       "                  A summary of the history\n",
       " of the project.\n",
       "                  <dt>\n",
       " <a href=\"Helping.html\" name=\"37\">\n",
       "                    How can I help\n",
       "                   </a>\n",
       "                   ?\n",
       "                   <dd>\n",
       "                    If you would like\n",
       " to support the web..\n",
       "                    <dt>\n",
       " <a href=\"../README.html\" name=\"48\">\n",
       "                      Getting code\n",
       "                     </a>\n",
       " <dd>\n",
       "                      Getting the code by\n",
       "                      <a href=\"LineMode/Defaults/Distribution.html\" name=\"49\">\n",
       "                       anonymous FTP\n",
       "                      </a>\n",
       "                      , etc.\n",
       "                     </dd>\n",
       " </dt>\n",
       " </dd>\n",
       " </dt>\n",
       " </dd>\n",
       " </dt>\n",
       " </dd>\n",
       " </dt>\n",
       " </dd>\n",
       " </dt>\n",
       " </dd>\n",
       " </dt>,\n",
       " <a href=\"Technical.html\" name=\"47\">\n",
       "            Technical\n",
       "           </a>,\n",
       " <dd>\n",
       "            Details of protocols, formats,\n",
       " program internals etc\n",
       "            <dt>\n",
       " <a href=\"Bibliography.html\" name=\"40\">\n",
       "              Bibliography\n",
       "             </a>\n",
       " <dd>\n",
       "              Paper documentation\n",
       " on  W3 and references.\n",
       "              <dt>\n",
       " <a href=\"People.html\" name=\"14\">\n",
       "                People\n",
       "               </a>\n",
       " <dd>\n",
       "                A list of some people involved\n",
       " in the project.\n",
       "                <dt>\n",
       " <a href=\"History.html\" name=\"15\">\n",
       "                  History\n",
       "                 </a>\n",
       " <dd>\n",
       "                  A summary of the history\n",
       " of the project.\n",
       "                  <dt>\n",
       " <a href=\"Helping.html\" name=\"37\">\n",
       "                    How can I help\n",
       "                   </a>\n",
       "                   ?\n",
       "                   <dd>\n",
       "                    If you would like\n",
       " to support the web..\n",
       "                    <dt>\n",
       " <a href=\"../README.html\" name=\"48\">\n",
       "                      Getting code\n",
       "                     </a>\n",
       " <dd>\n",
       "                      Getting the code by\n",
       "                      <a href=\"LineMode/Defaults/Distribution.html\" name=\"49\">\n",
       "                       anonymous FTP\n",
       "                      </a>\n",
       "                      , etc.\n",
       "                     </dd>\n",
       " </dt>\n",
       " </dd>\n",
       " </dt>\n",
       " </dd>\n",
       " </dt>\n",
       " </dd>\n",
       " </dt>\n",
       " </dd>\n",
       " </dt>\n",
       " </dd>,\n",
       " <dt>\n",
       " <a href=\"Bibliography.html\" name=\"40\">\n",
       "              Bibliography\n",
       "             </a>\n",
       " <dd>\n",
       "              Paper documentation\n",
       " on  W3 and references.\n",
       "              <dt>\n",
       " <a href=\"People.html\" name=\"14\">\n",
       "                People\n",
       "               </a>\n",
       " <dd>\n",
       "                A list of some people involved\n",
       " in the project.\n",
       "                <dt>\n",
       " <a href=\"History.html\" name=\"15\">\n",
       "                  History\n",
       "                 </a>\n",
       " <dd>\n",
       "                  A summary of the history\n",
       " of the project.\n",
       "                  <dt>\n",
       " <a href=\"Helping.html\" name=\"37\">\n",
       "                    How can I help\n",
       "                   </a>\n",
       "                   ?\n",
       "                   <dd>\n",
       "                    If you would like\n",
       " to support the web..\n",
       "                    <dt>\n",
       " <a href=\"../README.html\" name=\"48\">\n",
       "                      Getting code\n",
       "                     </a>\n",
       " <dd>\n",
       "                      Getting the code by\n",
       "                      <a href=\"LineMode/Defaults/Distribution.html\" name=\"49\">\n",
       "                       anonymous FTP\n",
       "                      </a>\n",
       "                      , etc.\n",
       "                     </dd>\n",
       " </dt>\n",
       " </dd>\n",
       " </dt>\n",
       " </dd>\n",
       " </dt>\n",
       " </dd>\n",
       " </dt>\n",
       " </dd>\n",
       " </dt>,\n",
       " <a href=\"Bibliography.html\" name=\"40\">\n",
       "              Bibliography\n",
       "             </a>,\n",
       " <dd>\n",
       "              Paper documentation\n",
       " on  W3 and references.\n",
       "              <dt>\n",
       " <a href=\"People.html\" name=\"14\">\n",
       "                People\n",
       "               </a>\n",
       " <dd>\n",
       "                A list of some people involved\n",
       " in the project.\n",
       "                <dt>\n",
       " <a href=\"History.html\" name=\"15\">\n",
       "                  History\n",
       "                 </a>\n",
       " <dd>\n",
       "                  A summary of the history\n",
       " of the project.\n",
       "                  <dt>\n",
       " <a href=\"Helping.html\" name=\"37\">\n",
       "                    How can I help\n",
       "                   </a>\n",
       "                   ?\n",
       "                   <dd>\n",
       "                    If you would like\n",
       " to support the web..\n",
       "                    <dt>\n",
       " <a href=\"../README.html\" name=\"48\">\n",
       "                      Getting code\n",
       "                     </a>\n",
       " <dd>\n",
       "                      Getting the code by\n",
       "                      <a href=\"LineMode/Defaults/Distribution.html\" name=\"49\">\n",
       "                       anonymous FTP\n",
       "                      </a>\n",
       "                      , etc.\n",
       "                     </dd>\n",
       " </dt>\n",
       " </dd>\n",
       " </dt>\n",
       " </dd>\n",
       " </dt>\n",
       " </dd>\n",
       " </dt>\n",
       " </dd>,\n",
       " <dt>\n",
       " <a href=\"People.html\" name=\"14\">\n",
       "                People\n",
       "               </a>\n",
       " <dd>\n",
       "                A list of some people involved\n",
       " in the project.\n",
       "                <dt>\n",
       " <a href=\"History.html\" name=\"15\">\n",
       "                  History\n",
       "                 </a>\n",
       " <dd>\n",
       "                  A summary of the history\n",
       " of the project.\n",
       "                  <dt>\n",
       " <a href=\"Helping.html\" name=\"37\">\n",
       "                    How can I help\n",
       "                   </a>\n",
       "                   ?\n",
       "                   <dd>\n",
       "                    If you would like\n",
       " to support the web..\n",
       "                    <dt>\n",
       " <a href=\"../README.html\" name=\"48\">\n",
       "                      Getting code\n",
       "                     </a>\n",
       " <dd>\n",
       "                      Getting the code by\n",
       "                      <a href=\"LineMode/Defaults/Distribution.html\" name=\"49\">\n",
       "                       anonymous FTP\n",
       "                      </a>\n",
       "                      , etc.\n",
       "                     </dd>\n",
       " </dt>\n",
       " </dd>\n",
       " </dt>\n",
       " </dd>\n",
       " </dt>\n",
       " </dd>\n",
       " </dt>,\n",
       " <a href=\"People.html\" name=\"14\">\n",
       "                People\n",
       "               </a>,\n",
       " <dd>\n",
       "                A list of some people involved\n",
       " in the project.\n",
       "                <dt>\n",
       " <a href=\"History.html\" name=\"15\">\n",
       "                  History\n",
       "                 </a>\n",
       " <dd>\n",
       "                  A summary of the history\n",
       " of the project.\n",
       "                  <dt>\n",
       " <a href=\"Helping.html\" name=\"37\">\n",
       "                    How can I help\n",
       "                   </a>\n",
       "                   ?\n",
       "                   <dd>\n",
       "                    If you would like\n",
       " to support the web..\n",
       "                    <dt>\n",
       " <a href=\"../README.html\" name=\"48\">\n",
       "                      Getting code\n",
       "                     </a>\n",
       " <dd>\n",
       "                      Getting the code by\n",
       "                      <a href=\"LineMode/Defaults/Distribution.html\" name=\"49\">\n",
       "                       anonymous FTP\n",
       "                      </a>\n",
       "                      , etc.\n",
       "                     </dd>\n",
       " </dt>\n",
       " </dd>\n",
       " </dt>\n",
       " </dd>\n",
       " </dt>\n",
       " </dd>,\n",
       " <dt>\n",
       " <a href=\"History.html\" name=\"15\">\n",
       "                  History\n",
       "                 </a>\n",
       " <dd>\n",
       "                  A summary of the history\n",
       " of the project.\n",
       "                  <dt>\n",
       " <a href=\"Helping.html\" name=\"37\">\n",
       "                    How can I help\n",
       "                   </a>\n",
       "                   ?\n",
       "                   <dd>\n",
       "                    If you would like\n",
       " to support the web..\n",
       "                    <dt>\n",
       " <a href=\"../README.html\" name=\"48\">\n",
       "                      Getting code\n",
       "                     </a>\n",
       " <dd>\n",
       "                      Getting the code by\n",
       "                      <a href=\"LineMode/Defaults/Distribution.html\" name=\"49\">\n",
       "                       anonymous FTP\n",
       "                      </a>\n",
       "                      , etc.\n",
       "                     </dd>\n",
       " </dt>\n",
       " </dd>\n",
       " </dt>\n",
       " </dd>\n",
       " </dt>,\n",
       " <a href=\"History.html\" name=\"15\">\n",
       "                  History\n",
       "                 </a>,\n",
       " <dd>\n",
       "                  A summary of the history\n",
       " of the project.\n",
       "                  <dt>\n",
       " <a href=\"Helping.html\" name=\"37\">\n",
       "                    How can I help\n",
       "                   </a>\n",
       "                   ?\n",
       "                   <dd>\n",
       "                    If you would like\n",
       " to support the web..\n",
       "                    <dt>\n",
       " <a href=\"../README.html\" name=\"48\">\n",
       "                      Getting code\n",
       "                     </a>\n",
       " <dd>\n",
       "                      Getting the code by\n",
       "                      <a href=\"LineMode/Defaults/Distribution.html\" name=\"49\">\n",
       "                       anonymous FTP\n",
       "                      </a>\n",
       "                      , etc.\n",
       "                     </dd>\n",
       " </dt>\n",
       " </dd>\n",
       " </dt>\n",
       " </dd>,\n",
       " <dt>\n",
       " <a href=\"Helping.html\" name=\"37\">\n",
       "                    How can I help\n",
       "                   </a>\n",
       "                   ?\n",
       "                   <dd>\n",
       "                    If you would like\n",
       " to support the web..\n",
       "                    <dt>\n",
       " <a href=\"../README.html\" name=\"48\">\n",
       "                      Getting code\n",
       "                     </a>\n",
       " <dd>\n",
       "                      Getting the code by\n",
       "                      <a href=\"LineMode/Defaults/Distribution.html\" name=\"49\">\n",
       "                       anonymous FTP\n",
       "                      </a>\n",
       "                      , etc.\n",
       "                     </dd>\n",
       " </dt>\n",
       " </dd>\n",
       " </dt>,\n",
       " <a href=\"Helping.html\" name=\"37\">\n",
       "                    How can I help\n",
       "                   </a>,\n",
       " <dd>\n",
       "                    If you would like\n",
       " to support the web..\n",
       "                    <dt>\n",
       " <a href=\"../README.html\" name=\"48\">\n",
       "                      Getting code\n",
       "                     </a>\n",
       " <dd>\n",
       "                      Getting the code by\n",
       "                      <a href=\"LineMode/Defaults/Distribution.html\" name=\"49\">\n",
       "                       anonymous FTP\n",
       "                      </a>\n",
       "                      , etc.\n",
       "                     </dd>\n",
       " </dt>\n",
       " </dd>,\n",
       " <dt>\n",
       " <a href=\"../README.html\" name=\"48\">\n",
       "                      Getting code\n",
       "                     </a>\n",
       " <dd>\n",
       "                      Getting the code by\n",
       "                      <a href=\"LineMode/Defaults/Distribution.html\" name=\"49\">\n",
       "                       anonymous FTP\n",
       "                      </a>\n",
       "                      , etc.\n",
       "                     </dd>\n",
       " </dt>,\n",
       " <a href=\"../README.html\" name=\"48\">\n",
       "                      Getting code\n",
       "                     </a>,\n",
       " <dd>\n",
       "                      Getting the code by\n",
       "                      <a href=\"LineMode/Defaults/Distribution.html\" name=\"49\">\n",
       "                       anonymous FTP\n",
       "                      </a>\n",
       "                      , etc.\n",
       "                     </dd>,\n",
       " <a href=\"LineMode/Defaults/Distribution.html\" name=\"49\">\n",
       "                       anonymous FTP\n",
       "                      </a>]"
      ]
     },
     "execution_count": 134,
     "metadata": {},
     "output_type": "execute_result"
    }
   ],
   "source": [
    "data.find_all(True)"
   ]
  },
  {
   "cell_type": "code",
   "execution_count": 135,
   "id": "540b726f",
   "metadata": {},
   "outputs": [
    {
     "data": {
      "text/plain": [
       "[<p>\n",
       "   Everything there is online about\n",
       " W3 is linked directly or indirectly\n",
       " to this document, including an\n",
       "   <a href=\"Summary.html\" name=\"24\">\n",
       "    executive\n",
       " summary\n",
       "   </a>\n",
       "   of the project,\n",
       "   <a href=\"Administration/Mailing/Overview.html\" name=\"29\">\n",
       "    Mailing lists\n",
       "   </a>\n",
       "   ,\n",
       "   <a href=\"Policy.html\" name=\"30\">\n",
       "    Policy\n",
       "   </a>\n",
       "   , November's\n",
       "   <a href=\"News/9211.html\" name=\"34\">\n",
       "    W3  news\n",
       "   </a>\n",
       "   ,\n",
       "   <a href=\"FAQ/List.html\" name=\"41\">\n",
       "    Frequently Asked Questions\n",
       "   </a>\n",
       "   .\n",
       "   <dl>\n",
       " <dt>\n",
       " <a href=\"../DataSources/Top.html\" name=\"44\">\n",
       "      What's out there?\n",
       "     </a>\n",
       " <dd>\n",
       "      Pointers to the\n",
       " world's online information,\n",
       "      <a href=\"../DataSources/bySubject/Overview.html\" name=\"45\">\n",
       "       subjects\n",
       "      </a>\n",
       "      ,\n",
       "      <a href=\"../DataSources/WWW/Servers.html\" name=\"z54\">\n",
       "       W3 servers\n",
       "      </a>\n",
       "      , etc.\n",
       "      <dt>\n",
       " <a href=\"Help.html\" name=\"46\">\n",
       "        Help\n",
       "       </a>\n",
       " <dd>\n",
       "        on the browser you are using\n",
       "        <dt>\n",
       " <a href=\"Status.html\" name=\"13\">\n",
       "          Software Products\n",
       "         </a>\n",
       " <dd>\n",
       "          A list of W3 project\n",
       " components and their current state.\n",
       " (e.g.\n",
       "          <a href=\"LineMode/Browser.html\" name=\"27\">\n",
       "           Line Mode\n",
       "          </a>\n",
       "          ,X11\n",
       "          <a href=\"Status.html#35\" name=\"35\">\n",
       "           Viola\n",
       "          </a>\n",
       "          ,\n",
       "          <a href=\"NeXT/WorldWideWeb.html\" name=\"26\">\n",
       "           NeXTStep\n",
       "          </a>\n",
       "          ,\n",
       "          <a href=\"Daemon/Overview.html\" name=\"25\">\n",
       "           Servers\n",
       "          </a>\n",
       "          ,\n",
       "          <a href=\"Tools/Overview.html\" name=\"51\">\n",
       "           Tools\n",
       "          </a>\n",
       "          ,\n",
       "          <a href=\"MailRobot/Overview.html\" name=\"53\">\n",
       "           Mail robot\n",
       "          </a>\n",
       "          ,\n",
       "          <a href=\"Status.html#57\" name=\"52\">\n",
       "           Library\n",
       "          </a>\n",
       "          )\n",
       "          <dt>\n",
       " <a href=\"Technical.html\" name=\"47\">\n",
       "            Technical\n",
       "           </a>\n",
       " <dd>\n",
       "            Details of protocols, formats,\n",
       " program internals etc\n",
       "            <dt>\n",
       " <a href=\"Bibliography.html\" name=\"40\">\n",
       "              Bibliography\n",
       "             </a>\n",
       " <dd>\n",
       "              Paper documentation\n",
       " on  W3 and references.\n",
       "              <dt>\n",
       " <a href=\"People.html\" name=\"14\">\n",
       "                People\n",
       "               </a>\n",
       " <dd>\n",
       "                A list of some people involved\n",
       " in the project.\n",
       "                <dt>\n",
       " <a href=\"History.html\" name=\"15\">\n",
       "                  History\n",
       "                 </a>\n",
       " <dd>\n",
       "                  A summary of the history\n",
       " of the project.\n",
       "                  <dt>\n",
       " <a href=\"Helping.html\" name=\"37\">\n",
       "                    How can I help\n",
       "                   </a>\n",
       "                   ?\n",
       "                   <dd>\n",
       "                    If you would like\n",
       " to support the web..\n",
       "                    <dt>\n",
       " <a href=\"../README.html\" name=\"48\">\n",
       "                      Getting code\n",
       "                     </a>\n",
       " <dd>\n",
       "                      Getting the code by\n",
       "                      <a href=\"LineMode/Defaults/Distribution.html\" name=\"49\">\n",
       "                       anonymous FTP\n",
       "                      </a>\n",
       "                      , etc.\n",
       "                     </dd>\n",
       " </dt>\n",
       " </dd>\n",
       " </dt>\n",
       " </dd>\n",
       " </dt>\n",
       " </dd>\n",
       " </dt>\n",
       " </dd>\n",
       " </dt>\n",
       " </dd>\n",
       " </dt>\n",
       " </dd>\n",
       " </dt>\n",
       " </dd>\n",
       " </dt>\n",
       " </dd>\n",
       " </dt>\n",
       " </dl>\n",
       " </p>]"
      ]
     },
     "execution_count": 135,
     "metadata": {},
     "output_type": "execute_result"
    }
   ],
   "source": [
    "data.find_all('p')"
   ]
  },
  {
   "cell_type": "code",
   "execution_count": 136,
   "id": "f6615589",
   "metadata": {},
   "outputs": [
    {
     "data": {
      "text/plain": [
       "[<h1>\n",
       "   World Wide Web\n",
       "  </h1>,\n",
       " <a href=\"WhatIs.html\" name=\"0\">\n",
       "   hypermedia\n",
       "  </a>,\n",
       " <p>\n",
       "   Everything there is online about\n",
       " W3 is linked directly or indirectly\n",
       " to this document, including an\n",
       "   <a href=\"Summary.html\" name=\"24\">\n",
       "    executive\n",
       " summary\n",
       "   </a>\n",
       "   of the project,\n",
       "   <a href=\"Administration/Mailing/Overview.html\" name=\"29\">\n",
       "    Mailing lists\n",
       "   </a>\n",
       "   ,\n",
       "   <a href=\"Policy.html\" name=\"30\">\n",
       "    Policy\n",
       "   </a>\n",
       "   , November's\n",
       "   <a href=\"News/9211.html\" name=\"34\">\n",
       "    W3  news\n",
       "   </a>\n",
       "   ,\n",
       "   <a href=\"FAQ/List.html\" name=\"41\">\n",
       "    Frequently Asked Questions\n",
       "   </a>\n",
       "   .\n",
       "   <dl>\n",
       " <dt>\n",
       " <a href=\"../DataSources/Top.html\" name=\"44\">\n",
       "      What's out there?\n",
       "     </a>\n",
       " <dd>\n",
       "      Pointers to the\n",
       " world's online information,\n",
       "      <a href=\"../DataSources/bySubject/Overview.html\" name=\"45\">\n",
       "       subjects\n",
       "      </a>\n",
       "      ,\n",
       "      <a href=\"../DataSources/WWW/Servers.html\" name=\"z54\">\n",
       "       W3 servers\n",
       "      </a>\n",
       "      , etc.\n",
       "      <dt>\n",
       " <a href=\"Help.html\" name=\"46\">\n",
       "        Help\n",
       "       </a>\n",
       " <dd>\n",
       "        on the browser you are using\n",
       "        <dt>\n",
       " <a href=\"Status.html\" name=\"13\">\n",
       "          Software Products\n",
       "         </a>\n",
       " <dd>\n",
       "          A list of W3 project\n",
       " components and their current state.\n",
       " (e.g.\n",
       "          <a href=\"LineMode/Browser.html\" name=\"27\">\n",
       "           Line Mode\n",
       "          </a>\n",
       "          ,X11\n",
       "          <a href=\"Status.html#35\" name=\"35\">\n",
       "           Viola\n",
       "          </a>\n",
       "          ,\n",
       "          <a href=\"NeXT/WorldWideWeb.html\" name=\"26\">\n",
       "           NeXTStep\n",
       "          </a>\n",
       "          ,\n",
       "          <a href=\"Daemon/Overview.html\" name=\"25\">\n",
       "           Servers\n",
       "          </a>\n",
       "          ,\n",
       "          <a href=\"Tools/Overview.html\" name=\"51\">\n",
       "           Tools\n",
       "          </a>\n",
       "          ,\n",
       "          <a href=\"MailRobot/Overview.html\" name=\"53\">\n",
       "           Mail robot\n",
       "          </a>\n",
       "          ,\n",
       "          <a href=\"Status.html#57\" name=\"52\">\n",
       "           Library\n",
       "          </a>\n",
       "          )\n",
       "          <dt>\n",
       " <a href=\"Technical.html\" name=\"47\">\n",
       "            Technical\n",
       "           </a>\n",
       " <dd>\n",
       "            Details of protocols, formats,\n",
       " program internals etc\n",
       "            <dt>\n",
       " <a href=\"Bibliography.html\" name=\"40\">\n",
       "              Bibliography\n",
       "             </a>\n",
       " <dd>\n",
       "              Paper documentation\n",
       " on  W3 and references.\n",
       "              <dt>\n",
       " <a href=\"People.html\" name=\"14\">\n",
       "                People\n",
       "               </a>\n",
       " <dd>\n",
       "                A list of some people involved\n",
       " in the project.\n",
       "                <dt>\n",
       " <a href=\"History.html\" name=\"15\">\n",
       "                  History\n",
       "                 </a>\n",
       " <dd>\n",
       "                  A summary of the history\n",
       " of the project.\n",
       "                  <dt>\n",
       " <a href=\"Helping.html\" name=\"37\">\n",
       "                    How can I help\n",
       "                   </a>\n",
       "                   ?\n",
       "                   <dd>\n",
       "                    If you would like\n",
       " to support the web..\n",
       "                    <dt>\n",
       " <a href=\"../README.html\" name=\"48\">\n",
       "                      Getting code\n",
       "                     </a>\n",
       " <dd>\n",
       "                      Getting the code by\n",
       "                      <a href=\"LineMode/Defaults/Distribution.html\" name=\"49\">\n",
       "                       anonymous FTP\n",
       "                      </a>\n",
       "                      , etc.\n",
       "                     </dd>\n",
       " </dt>\n",
       " </dd>\n",
       " </dt>\n",
       " </dd>\n",
       " </dt>\n",
       " </dd>\n",
       " </dt>\n",
       " </dd>\n",
       " </dt>\n",
       " </dd>\n",
       " </dt>\n",
       " </dd>\n",
       " </dt>\n",
       " </dd>\n",
       " </dt>\n",
       " </dd>\n",
       " </dt>\n",
       " </dl>\n",
       " </p>,\n",
       " <a href=\"Summary.html\" name=\"24\">\n",
       "    executive\n",
       " summary\n",
       "   </a>,\n",
       " <a href=\"Administration/Mailing/Overview.html\" name=\"29\">\n",
       "    Mailing lists\n",
       "   </a>,\n",
       " <a href=\"Policy.html\" name=\"30\">\n",
       "    Policy\n",
       "   </a>,\n",
       " <a href=\"News/9211.html\" name=\"34\">\n",
       "    W3  news\n",
       "   </a>,\n",
       " <a href=\"FAQ/List.html\" name=\"41\">\n",
       "    Frequently Asked Questions\n",
       "   </a>,\n",
       " <a href=\"../DataSources/Top.html\" name=\"44\">\n",
       "      What's out there?\n",
       "     </a>,\n",
       " <a href=\"../DataSources/bySubject/Overview.html\" name=\"45\">\n",
       "       subjects\n",
       "      </a>,\n",
       " <a href=\"../DataSources/WWW/Servers.html\" name=\"z54\">\n",
       "       W3 servers\n",
       "      </a>,\n",
       " <a href=\"Help.html\" name=\"46\">\n",
       "        Help\n",
       "       </a>,\n",
       " <a href=\"Status.html\" name=\"13\">\n",
       "          Software Products\n",
       "         </a>,\n",
       " <a href=\"LineMode/Browser.html\" name=\"27\">\n",
       "           Line Mode\n",
       "          </a>,\n",
       " <a href=\"Status.html#35\" name=\"35\">\n",
       "           Viola\n",
       "          </a>,\n",
       " <a href=\"NeXT/WorldWideWeb.html\" name=\"26\">\n",
       "           NeXTStep\n",
       "          </a>,\n",
       " <a href=\"Daemon/Overview.html\" name=\"25\">\n",
       "           Servers\n",
       "          </a>,\n",
       " <a href=\"Tools/Overview.html\" name=\"51\">\n",
       "           Tools\n",
       "          </a>,\n",
       " <a href=\"MailRobot/Overview.html\" name=\"53\">\n",
       "           Mail robot\n",
       "          </a>,\n",
       " <a href=\"Status.html#57\" name=\"52\">\n",
       "           Library\n",
       "          </a>,\n",
       " <a href=\"Technical.html\" name=\"47\">\n",
       "            Technical\n",
       "           </a>,\n",
       " <a href=\"Bibliography.html\" name=\"40\">\n",
       "              Bibliography\n",
       "             </a>,\n",
       " <a href=\"People.html\" name=\"14\">\n",
       "                People\n",
       "               </a>,\n",
       " <a href=\"History.html\" name=\"15\">\n",
       "                  History\n",
       "                 </a>,\n",
       " <a href=\"Helping.html\" name=\"37\">\n",
       "                    How can I help\n",
       "                   </a>,\n",
       " <a href=\"../README.html\" name=\"48\">\n",
       "                      Getting code\n",
       "                     </a>,\n",
       " <a href=\"LineMode/Defaults/Distribution.html\" name=\"49\">\n",
       "                       anonymous FTP\n",
       "                      </a>]"
      ]
     },
     "execution_count": 136,
     "metadata": {},
     "output_type": "execute_result"
    }
   ],
   "source": [
    "data.find_all(['p','a','h1'])"
   ]
  },
  {
   "cell_type": "code",
   "execution_count": 137,
   "id": "ced49eb4",
   "metadata": {},
   "outputs": [
    {
     "data": {
      "text/plain": [
       "[<a href=\"WhatIs.html\" name=\"0\">\n",
       "   hypermedia\n",
       "  </a>,\n",
       " <a href=\"Summary.html\" name=\"24\">\n",
       "    executive\n",
       " summary\n",
       "   </a>,\n",
       " <a href=\"Administration/Mailing/Overview.html\" name=\"29\">\n",
       "    Mailing lists\n",
       "   </a>,\n",
       " <a href=\"Policy.html\" name=\"30\">\n",
       "    Policy\n",
       "   </a>,\n",
       " <a href=\"News/9211.html\" name=\"34\">\n",
       "    W3  news\n",
       "   </a>,\n",
       " <a href=\"FAQ/List.html\" name=\"41\">\n",
       "    Frequently Asked Questions\n",
       "   </a>,\n",
       " <a href=\"../DataSources/Top.html\" name=\"44\">\n",
       "      What's out there?\n",
       "     </a>,\n",
       " <a href=\"../DataSources/bySubject/Overview.html\" name=\"45\">\n",
       "       subjects\n",
       "      </a>,\n",
       " <a href=\"../DataSources/WWW/Servers.html\" name=\"z54\">\n",
       "       W3 servers\n",
       "      </a>,\n",
       " <a href=\"Help.html\" name=\"46\">\n",
       "        Help\n",
       "       </a>,\n",
       " <a href=\"Status.html\" name=\"13\">\n",
       "          Software Products\n",
       "         </a>,\n",
       " <a href=\"LineMode/Browser.html\" name=\"27\">\n",
       "           Line Mode\n",
       "          </a>,\n",
       " <a href=\"Status.html#35\" name=\"35\">\n",
       "           Viola\n",
       "          </a>,\n",
       " <a href=\"NeXT/WorldWideWeb.html\" name=\"26\">\n",
       "           NeXTStep\n",
       "          </a>,\n",
       " <a href=\"Daemon/Overview.html\" name=\"25\">\n",
       "           Servers\n",
       "          </a>,\n",
       " <a href=\"Tools/Overview.html\" name=\"51\">\n",
       "           Tools\n",
       "          </a>,\n",
       " <a href=\"MailRobot/Overview.html\" name=\"53\">\n",
       "           Mail robot\n",
       "          </a>,\n",
       " <a href=\"Status.html#57\" name=\"52\">\n",
       "           Library\n",
       "          </a>,\n",
       " <a href=\"Technical.html\" name=\"47\">\n",
       "            Technical\n",
       "           </a>,\n",
       " <a href=\"Bibliography.html\" name=\"40\">\n",
       "              Bibliography\n",
       "             </a>,\n",
       " <a href=\"People.html\" name=\"14\">\n",
       "                People\n",
       "               </a>,\n",
       " <a href=\"History.html\" name=\"15\">\n",
       "                  History\n",
       "                 </a>,\n",
       " <a href=\"Helping.html\" name=\"37\">\n",
       "                    How can I help\n",
       "                   </a>,\n",
       " <a href=\"../README.html\" name=\"48\">\n",
       "                      Getting code\n",
       "                     </a>,\n",
       " <a href=\"LineMode/Defaults/Distribution.html\" name=\"49\">\n",
       "                       anonymous FTP\n",
       "                      </a>]"
      ]
     },
     "execution_count": 137,
     "metadata": {},
     "output_type": "execute_result"
    }
   ],
   "source": [
    "data.find_all('a')"
   ]
  },
  {
   "cell_type": "code",
   "execution_count": 138,
   "id": "5d485fe8",
   "metadata": {},
   "outputs": [
    {
     "data": {
      "text/plain": [
       "'WhatIs.html'"
      ]
     },
     "execution_count": 138,
     "metadata": {},
     "output_type": "execute_result"
    }
   ],
   "source": [
    "data.a['href']"
   ]
  },
  {
   "cell_type": "code",
   "execution_count": 140,
   "id": "7333c7f7",
   "metadata": {},
   "outputs": [
    {
     "name": "stdout",
     "output_type": "stream",
     "text": [
      "No. of hyperlinks: 25\n",
      "['hypermedia']\n",
      "['executive\\nsummary']\n",
      "['Mailing lists']\n",
      "['Policy']\n",
      "['W3  news']\n",
      "['Frequently Asked Questions']\n",
      "[\"What's out there?\"]\n",
      "['subjects']\n",
      "['W3 servers']\n",
      "['Help']\n",
      "['Software Products']\n",
      "['Line Mode']\n",
      "['Viola']\n",
      "['NeXTStep']\n",
      "['Servers']\n",
      "['Tools']\n",
      "['Mail robot']\n",
      "['Library']\n",
      "['Technical']\n",
      "['Bibliography']\n",
      "['People']\n",
      "['History']\n",
      "['How can I help']\n",
      "['Getting code']\n",
      "['anonymous FTP']\n"
     ]
    }
   ],
   "source": [
    "li = data.find_all('a')\n",
    "print('No. of hyperlinks:', len(li))\n",
    "for i in li:\n",
    "    print(list(i.stripped_strings))"
   ]
  },
  {
   "cell_type": "code",
   "execution_count": 141,
   "id": "42101f5c",
   "metadata": {},
   "outputs": [
    {
     "name": "stdout",
     "output_type": "stream",
     "text": [
      "19\n"
     ]
    }
   ],
   "source": [
    "li = data.dl.find_all('a')\n",
    "print(len(li))"
   ]
  },
  {
   "cell_type": "code",
   "execution_count": 143,
   "id": "67be3dcf",
   "metadata": {},
   "outputs": [
    {
     "name": "stdout",
     "output_type": "stream",
     "text": [
      "[\"What's out there?\"]\n",
      "['subjects']\n",
      "['W3 servers']\n",
      "['Help']\n",
      "['Software Products']\n",
      "['Line Mode']\n",
      "['Viola']\n",
      "['NeXTStep']\n",
      "['Servers']\n",
      "['Tools']\n",
      "['Mail robot']\n",
      "['Library']\n",
      "['Technical']\n",
      "['Bibliography']\n",
      "['People']\n",
      "['History']\n",
      "['How can I help']\n",
      "['Getting code']\n",
      "['anonymous FTP']\n"
     ]
    }
   ],
   "source": [
    "for i in list(li):\n",
    "    print(list(i.stripped_strings))"
   ]
  },
  {
   "cell_type": "code",
   "execution_count": 145,
   "id": "4f2b2eb5",
   "metadata": {},
   "outputs": [
    {
     "name": "stdout",
     "output_type": "stream",
     "text": [
      "[\"What's out there?\"]\n",
      "['subjects']\n",
      "['W3 servers']\n",
      "['Help']\n",
      "['Software Products']\n",
      "['Line Mode']\n",
      "['Viola']\n",
      "['NeXTStep']\n",
      "['Servers']\n",
      "['Tools']\n",
      "['Mail robot']\n",
      "['Library']\n",
      "['Technical']\n",
      "['Bibliography']\n",
      "['People']\n",
      "['History']\n",
      "['How can I help']\n",
      "['Getting code']\n",
      "['anonymous FTP']\n"
     ]
    }
   ],
   "source": [
    "li = data.dt.find_all('a')\n",
    "for i in list(li):\n",
    "    print(list(i.stripped_strings))"
   ]
  },
  {
   "cell_type": "code",
   "execution_count": 146,
   "id": "1e269c31",
   "metadata": {},
   "outputs": [
    {
     "name": "stdout",
     "output_type": "stream",
     "text": [
      "['subjects']\n",
      "['W3 servers']\n",
      "['Help']\n",
      "['Software Products']\n",
      "['Line Mode']\n",
      "['Viola']\n",
      "['NeXTStep']\n",
      "['Servers']\n",
      "['Tools']\n",
      "['Mail robot']\n",
      "['Library']\n",
      "['Technical']\n",
      "['Bibliography']\n",
      "['People']\n",
      "['History']\n",
      "['How can I help']\n",
      "['Getting code']\n",
      "['anonymous FTP']\n"
     ]
    }
   ],
   "source": [
    "li = data.dd.find_all('a')\n",
    "for i in list(li):\n",
    "    print(list(i.stripped_strings))"
   ]
  },
  {
   "cell_type": "code",
   "execution_count": 151,
   "id": "0bd8c0b7",
   "metadata": {},
   "outputs": [
    {
     "name": "stdout",
     "output_type": "stream",
     "text": [
      "[\"What's out there?\"]\n",
      "['Help']\n",
      "['Software Products']\n",
      "['Technical']\n",
      "['Bibliography']\n",
      "['People']\n",
      "['History']\n",
      "['How can I help']\n",
      "['Getting code']\n"
     ]
    }
   ],
   "source": [
    "li = data.dl.find_all('dt')\n",
    "for i in li:\n",
    "    print(list(i.a.stripped_strings))"
   ]
  },
  {
   "cell_type": "code",
   "execution_count": 152,
   "id": "31e78de6",
   "metadata": {},
   "outputs": [
    {
     "name": "stdout",
     "output_type": "stream",
     "text": [
      "['subjects']\n",
      "['Software Products']\n",
      "['Line Mode']\n",
      "['Bibliography']\n",
      "['People']\n",
      "['History']\n",
      "['How can I help']\n",
      "['Getting code']\n",
      "['anonymous FTP']\n"
     ]
    }
   ],
   "source": [
    "li = data.dl.find_all('dd')\n",
    "for i in li:\n",
    "    print(list(i.a.stripped_strings))"
   ]
  },
  {
   "cell_type": "code",
   "execution_count": 153,
   "id": "61ea2c54",
   "metadata": {},
   "outputs": [
    {
     "name": "stdout",
     "output_type": "stream",
     "text": [
      "[\"What's out there?\"]\n"
     ]
    }
   ],
   "source": [
    "li = data.find_all('dl')\n",
    "for i in list(li):\n",
    "    print(list(i.a.stripped_strings))"
   ]
  },
  {
   "cell_type": "code",
   "execution_count": 158,
   "id": "7aa3ae34",
   "metadata": {},
   "outputs": [
    {
     "name": "stdout",
     "output_type": "stream",
     "text": [
      "[\"What's out there?\"]\n",
      "['Help']\n",
      "['Software Products']\n",
      "['Technical']\n",
      "['Bibliography']\n",
      "['People']\n",
      "['History']\n",
      "['How can I help']\n",
      "['Getting code']\n"
     ]
    }
   ],
   "source": [
    "li = data.find_all('dt')\n",
    "for i in li:\n",
    "    print(list(i.a.stripped_strings))"
   ]
  },
  {
   "cell_type": "code",
   "execution_count": 181,
   "id": "519dd062",
   "metadata": {},
   "outputs": [
    {
     "name": "stdout",
     "output_type": "stream",
     "text": [
      "18\n",
      "<a href=\"../DataSources/bySubject/Overview.html\" name=\"45\">\n",
      "      subjects\n",
      "     </a>\n",
      "<a href=\"../DataSources/WWW/Servers.html\" name=\"z54\">\n",
      "      W3 servers\n",
      "     </a>\n",
      "<a href=\"Help.html\" name=\"46\">\n",
      "       Help\n",
      "      </a>\n",
      "<a href=\"Status.html\" name=\"13\">\n",
      "         Software Products\n",
      "        </a>\n",
      "<a href=\"LineMode/Browser.html\" name=\"27\">\n",
      "          Line Mode\n",
      "         </a>\n",
      "<a href=\"Status.html#35\" name=\"35\">\n",
      "          Viola\n",
      "         </a>\n",
      "<a href=\"NeXT/WorldWideWeb.html\" name=\"26\">\n",
      "          NeXTStep\n",
      "         </a>\n",
      "<a href=\"Daemon/Overview.html\" name=\"25\">\n",
      "          Servers\n",
      "         </a>\n",
      "<a href=\"Tools/Overview.html\" name=\"51\">\n",
      "          Tools\n",
      "         </a>\n",
      "<a href=\"MailRobot/Overview.html\" name=\"53\">\n",
      "          Mail robot\n",
      "         </a>\n",
      "<a href=\"Status.html#57\" name=\"52\">\n",
      "          Library\n",
      "         </a>\n",
      "<a href=\"Technical.html\" name=\"47\">\n",
      "           Technical\n",
      "          </a>\n",
      "<a href=\"Bibliography.html\" name=\"40\">\n",
      "             Bibliography\n",
      "            </a>\n",
      "<a href=\"People.html\" name=\"14\">\n",
      "               People\n",
      "              </a>\n",
      "<a href=\"History.html\" name=\"15\">\n",
      "                 History\n",
      "                </a>\n",
      "<a href=\"Helping.html\" name=\"37\">\n",
      "                   How can I help\n",
      "                  </a>\n",
      "<a href=\"../README.html\" name=\"48\">\n",
      "                     Getting code\n",
      "                    </a>\n",
      "<a href=\"LineMode/Defaults/Distribution.html\" name=\"49\">\n",
      "                      anonymous FTP\n",
      "                     </a>\n",
      "../DataSources/bySubject/Overview.html\n",
      "../DataSources/WWW/Servers.html\n",
      "Help.html\n",
      "Status.html\n",
      "LineMode/Browser.html\n",
      "Status.html#35\n",
      "NeXT/WorldWideWeb.html\n",
      "Daemon/Overview.html\n",
      "Tools/Overview.html\n",
      "MailRobot/Overview.html\n",
      "Status.html#57\n",
      "Technical.html\n",
      "Bibliography.html\n",
      "People.html\n",
      "History.html\n",
      "Helping.html\n",
      "../README.html\n",
      "LineMode/Defaults/Distribution.html\n"
     ]
    }
   ],
   "source": [
    "li = data.dd.find_all('a')\n",
    "print(len(li))\n",
    "for i in li:\n",
    "    print(i)\n",
    "for i in li:\n",
    "    print(i['href'])"
   ]
  },
  {
   "cell_type": "code",
   "execution_count": 182,
   "id": "59786244",
   "metadata": {},
   "outputs": [
    {
     "name": "stdout",
     "output_type": "stream",
     "text": [
      "19\n"
     ]
    }
   ],
   "source": [
    "li = data.dl.find_all('a')\n",
    "print(len(li))"
   ]
  },
  {
   "cell_type": "code",
   "execution_count": 186,
   "id": "7aaeb9ee",
   "metadata": {},
   "outputs": [
    {
     "name": "stdout",
     "output_type": "stream",
     "text": [
      "[\"What's out there?\"]\n",
      "['subjects']\n",
      "['W3 servers']\n",
      "['Help']\n",
      "['Software Products']\n",
      "['Line Mode']\n",
      "['Viola']\n",
      "['NeXTStep']\n",
      "['Servers']\n",
      "['Tools']\n",
      "['Mail robot']\n",
      "['Library']\n",
      "['Technical']\n",
      "['Bibliography']\n",
      "['People']\n",
      "['History']\n",
      "['How can I help']\n",
      "['Getting code']\n",
      "['anonymous FTP']\n"
     ]
    }
   ],
   "source": [
    "for i in li:\n",
    "    print(list(i.stripped_strings))"
   ]
  },
  {
   "cell_type": "code",
   "execution_count": 187,
   "id": "387499e0",
   "metadata": {},
   "outputs": [
    {
     "name": "stdout",
     "output_type": "stream",
     "text": [
      "9\n"
     ]
    }
   ],
   "source": [
    "li = data.dl.find_all('dt')\n",
    "print(len(li))"
   ]
  },
  {
   "cell_type": "code",
   "execution_count": 191,
   "id": "a3740789",
   "metadata": {},
   "outputs": [
    {
     "name": "stdout",
     "output_type": "stream",
     "text": [
      "[\"What's out there?\"]\n",
      "['Help']\n",
      "['Software Products']\n",
      "['Technical']\n",
      "['Bibliography']\n",
      "['People']\n",
      "['History']\n",
      "['How can I help']\n",
      "['Getting code']\n"
     ]
    }
   ],
   "source": [
    "for i in list(li):\n",
    "    print(list(i.a.stripped_strings))"
   ]
  },
  {
   "cell_type": "code",
   "execution_count": null,
   "id": "c2bbd7df",
   "metadata": {},
   "outputs": [],
   "source": []
  }
 ],
 "metadata": {
  "kernelspec": {
   "display_name": "Python 3",
   "language": "python",
   "name": "python3"
  },
  "language_info": {
   "codemirror_mode": {
    "name": "ipython",
    "version": 3
   },
   "file_extension": ".py",
   "mimetype": "text/x-python",
   "name": "python",
   "nbconvert_exporter": "python",
   "pygments_lexer": "ipython3",
   "version": "3.8.8"
  }
 },
 "nbformat": 4,
 "nbformat_minor": 5
}
